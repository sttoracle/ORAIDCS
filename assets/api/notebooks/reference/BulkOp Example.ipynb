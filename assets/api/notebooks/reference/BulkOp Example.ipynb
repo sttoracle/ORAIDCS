{
 "cells": [
  {
   "cell_type": "code",
   "execution_count": null,
   "metadata": {
    "collapsed": true
   },
   "outputs": [],
   "source": [
    "import requests, json, base64, urllib.parse"
   ]
  },
  {
   "cell_type": "code",
   "execution_count": null,
   "metadata": {
    "collapsed": true
   },
   "outputs": [],
   "source": [
    "tenant = \"\"\n",
    "clientId = ''\n",
    "clientSecret = ''\n",
    " \n",
    "domain = \"identity.oraclecloud.com\"\n",
    "port = \"443\"\n",
    "baseurl = 'https://' + tenant + '.' + domain + ':' + port\n",
    "configurl =  baseurl + '/.well-known/idcs-configuration'"
   ]
  },
  {
   "cell_type": "code",
   "execution_count": null,
   "metadata": {
    "collapsed": true
   },
   "outputs": [],
   "source": [
    "config = None\n",
    "response = requests.get(configurl).text\n",
    "config = json.loads(response)\n",
    "tokenurl = config[\"openid-configuration\"][\"token_endpoint\"]\n",
    "\n",
    "grant_type = \"client_credentials\"\n",
    "scope = \"urn:opc:idm:__myscopes__\"\n",
    "\n",
    "basicauthHeader = base64.b64encode(bytes(clientId + \":\" + clientSecret, 'utf-8')) \n",
    "reqdata = {'grant_type': grant_type, 'scope' : scope}\n",
    "reqheaders = {'Authorization': 'Basic ' + basicauthHeader.decode(\"utf-8\"), 'content-type': 'application/x-www-form-urlencoded'}\n",
    "\n",
    "response = requests.post(tokenurl, data = reqdata, headers = reqheaders)\n",
    "accesstoken = response.json()[\"access_token\"]\n",
    "headers = {'Authorization': 'Bearer ' + accesstoken, 'content-type': 'application/json'}\n",
    "print(accesstoken)"
   ]
  },
  {
   "cell_type": "code",
   "execution_count": null,
   "metadata": {
    "collapsed": true
   },
   "outputs": [],
   "source": [
    "def getapproleids(approlename):\n",
    "    approleurl = baseurl + \"/admin/v1/AppRoles\"\n",
    "    filter = \"?filter=displayName eq \\\"\" + approlename + \"\\\"\"\n",
    "    approlelist = requests.get(approleurl + filter, headers = headers).json()[\"Resources\"]\n",
    "    \n",
    "    if(len(approlelist) > 0):\n",
    "        return approlelist[0][\"id\"], approlelist[0][\"app\"][\"value\"]\n",
    "    else:\n",
    "        return None, None\n",
    "\n",
    "def testbulkpayload(approleid, appid):\n",
    "    payload = {\n",
    "        \"schemas\": [\n",
    "            \"urn:ietf:params:scim:api:messages:2.0:BulkRequest\"\n",
    "          ],\n",
    "        \"Operations\": [\n",
    "              {\n",
    "                  \"method\": \"POST\",\n",
    "                  \"path\": \"/Users\",\n",
    "                  \"bulkId\": \"ukid_user\",\n",
    "                  \"data\": {\n",
    "                    \"schemas\": [\n",
    "                          \"urn:ietf:params:scim:schemas:core:2.0:User\",\n",
    "                          \"urn:ietf:params:scim:schemas:oracle:idcs:extension:user:User\", \n",
    "                          \"urn:ietf:params:scim:schemas:oracle:idcs:extension:userState:User\"\n",
    "                    ],\n",
    "                    \"userName\": \"bulkuser1\",\n",
    "                    \"name\": {\n",
    "                      \"givenName\": \"Bulk\",\n",
    "                      \"familyName\": \"User1\",\n",
    "                      \"formatted\": \"Bulk User1\"\n",
    "                    },\n",
    "                    \"displayName\": \"Bulk User1\",\n",
    "                    \"active\": True,\n",
    "                    \"emails\": [\n",
    "                          {\n",
    "                            \"value\": \"demoidcs+X@gmail.com\",\n",
    "                            \"type\": \"work\",\n",
    "                            \"primary\": True\n",
    "                          }\n",
    "                    ]\n",
    "                  }\n",
    "            },\n",
    "            {\n",
    "                \"method\": \"POST\",\n",
    "                \"path\": \"/Grants\",\n",
    "                \"bulkId\": \"ukid_grant\",\n",
    "                \"data\": {\n",
    "                    \"schemas\": [\n",
    "                        \"urn:ietf:params:scim:schemas:oracle:idcs:Grant\"\n",
    "                      ],\n",
    "                     \"app\": {\n",
    "                        \"value\": appid\n",
    "                      },\n",
    "                      \"entitlement\": {\n",
    "                        \"attributeName\": \"appRoles\",\n",
    "                        \"attributeValue\": approleid\n",
    "                      },\n",
    "                      \"grantMechanism\": \"ADMINISTRATOR_TO_USER\",\n",
    "                      \"grantee\": {\n",
    "                        \"value\": \"bulkId:ukid_user\",\n",
    "                        \"type\": \"User\"\n",
    "                      }\n",
    "                }\n",
    "            }\n",
    "      ]\n",
    "    }\n",
    "    return payload"
   ]
  },
  {
   "cell_type": "code",
   "execution_count": null,
   "metadata": {
    "collapsed": true
   },
   "outputs": [],
   "source": [
    "appolename = 'JaaS_Administrator'\n",
    "approleid,appid = getapproleids(appolename)\n",
    "\n",
    "\n",
    "bulkurl = baseurl + \"/admin/v1/Bulk\"   \n",
    "bulkpayload = testbulkpayload(approleid, appid)\n",
    "response = requests.post(bulkurl, data = json.dumps(bulkpayload), headers = headers).json()\n",
    "print(response)"
   ]
  },
  {
   "cell_type": "code",
   "execution_count": null,
   "metadata": {
    "collapsed": true
   },
   "outputs": [],
   "source": []
  },
  {
   "cell_type": "code",
   "execution_count": null,
   "metadata": {
    "collapsed": true
   },
   "outputs": [],
   "source": []
  }
 ],
 "metadata": {
  "kernelspec": {
   "display_name": "Python3",
   "language": "python",
   "name": "python3"
  },
  "language_info": {
   "codemirror_mode": {
    "name": "ipython",
    "version": 3
   },
   "file_extension": ".py",
   "mimetype": "text/x-python",
   "name": "python",
   "nbconvert_exporter": "python",
   "pygments_lexer": "ipython3",
   "version": "3.6.2"
  }
 },
 "nbformat": 4,
 "nbformat_minor": 2
}
