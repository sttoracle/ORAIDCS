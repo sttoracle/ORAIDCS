{
 "cells": [
  {
   "cell_type": "markdown",
   "metadata": {},
   "source": [
    "# Create CG App With Policy\n",
    "\n",
    "Let's get started!\n",
    "___"
   ]
  },
  {
   "cell_type": "code",
   "execution_count": null,
   "metadata": {
    "collapsed": true
   },
   "outputs": [],
   "source": [
    "import pandas as pd, numpy as np, datetime as dt, matplotlib.pyplot as plt\n",
    "import requests, json\n",
    "from ipywidgets import widgets, Layout, interact\n",
    "from IPython.display import display\n",
    "import base64, urllib.parse"
   ]
  },
  {
   "cell_type": "markdown",
   "metadata": {},
   "source": [
    "## 1 - Initialize Environment\n",
    "\n",
    "First let's gather information about your IDCS Tenant.\n"
   ]
  },
  {
   "cell_type": "code",
   "execution_count": null,
   "metadata": {
    "collapsed": true,
    "scrolled": true
   },
   "outputs": [],
   "source": [
    "tenant = \"\"\n",
    "clientId = ''\n",
    "clientSecret = ''\n",
    "\n",
    "domain = \"identity.oraclecloud.com\"\n",
    "port = \"8943\"\n",
    "baseurl = 'https://' + tenant + '.' + domain + ':' + port\n",
    "configurl =  baseurl + '/.well-known/idcs-configuration'"
   ]
  },
  {
   "cell_type": "markdown",
   "metadata": {},
   "source": [
    "Specify the Target App Name"
   ]
  },
  {
   "cell_type": "code",
   "execution_count": null,
   "metadata": {
    "collapsed": true
   },
   "outputs": [],
   "source": [
    "targetappname = \"\""
   ]
  },
  {
   "cell_type": "markdown",
   "metadata": {},
   "source": [
    "## 2 - Generate Access Token\n"
   ]
  },
  {
   "cell_type": "code",
   "execution_count": null,
   "metadata": {
    "scrolled": true
   },
   "outputs": [],
   "source": [
    "config = None\n",
    "response = requests.get(configurl, verify=False).text\n",
    "config = json.loads(response)\n",
    "tokenurl = config[\"openid-configuration\"][\"token_endpoint\"]\n",
    "\n",
    "grant_type = \"client_credentials\"\n",
    "scope = \"urn:opc:idm:__myscopes__\"\n",
    "\n",
    "#Token Endpoint needs the App Creds in base64 encoded Header\n",
    "basicauthHeader = base64.b64encode(bytes(clientId + \":\" + clientSecret, 'utf-8')) \n",
    "reqdata = {'grant_type': grant_type, 'scope' : scope}\n",
    "reqheaders = {'Authorization': 'Basic ' + basicauthHeader.decode(\"utf-8\"), 'content-type': 'application/x-www-form-urlencoded'}\n",
    "\n",
    "response = requests.post(tokenurl, data = reqdata, headers = reqheaders, verify=False)\n",
    "accesstoken = response.json()[\"access_token\"]\n",
    "print(accesstoken)\n"
   ]
  },
  {
   "cell_type": "markdown",
   "metadata": {},
   "source": [
    "___"
   ]
  },
  {
   "cell_type": "markdown",
   "metadata": {},
   "source": [
    "## 3 - Search for the App\n",
    "\n",
    "Search for the target App to place the policy. If does not exist, then create a new App. Get the App ID."
   ]
  },
  {
   "cell_type": "code",
   "execution_count": null,
   "metadata": {},
   "outputs": [],
   "source": [
    "appsurl = baseurl + \"/admin/v1/Apps?filter=displayName eq \\\"\" + targetappname + \"\\\"\"\n",
    "targetappid = None\n",
    "\n",
    "appsheaders = {'Authorization': 'Bearer ' + accesstoken, 'content-type': 'application/json'}\n",
    "appslist = requests.get(appsurl, headers = appsheaders, verify=False).json()[\"Resources\"]\n",
    "\n",
    "if len(appslist) == 0:\n",
    "    print(\"Creating New Placeholder App\")\n",
    "    \n",
    "    cgrolevalurl = baseurl + \"/admin/v1/AppRoles?filter=displayName eq \\\"Cloud Gate\\\"\"\n",
    "    cgroleval = requests.get(cgrolevalurl, headers = appsheaders, verify=False).json()[\"Resources\"][0][\"id\"]\n",
    "    \n",
    "    apppayload = {\"clientType\": \"confidential\",\n",
    "        \"isAliasApp\": False,\n",
    "        \"isLoginTarget\": False,\n",
    "        \"displayName\": targetappname,\n",
    "        \"isMobileTarget\": False,\n",
    "        \"isUnmanagedApp\": False,\n",
    "        \"isOPCService\": False,\n",
    "        \"isOAuthClient\": True,\n",
    "        \"isWebTierPolicy\": False,\n",
    "        \"isManagedApp\": False,\n",
    "        \"isManagedApp\": False,\n",
    "        \"isSamlServiceProvider\": False,\n",
    "        \"infrastructure\": False,\n",
    "        \"allUrlSchemesAllowed\": True,\n",
    "        \"allowAccessControl\": False,\n",
    "        \"isOAuthResource\": False,\n",
    "        \"migrated\": False,\n",
    "        \"logoutUri\": \"http://%hostid%/cloudgate/v1/oauth2/logout\",\n",
    "        \"isKerberosRealm\": False,\n",
    "        \"redirectUris\": [\n",
    "            \"http://%hostid%/cloudgate/v1/oauth2/callback\"\n",
    "        ],\n",
    "        \"allowedGrants\": [\n",
    "            \"client_credentials\",\n",
    "            \"authorization_code\"\n",
    "        ],\n",
    "        \"attrRenderingMetadata\": [\n",
    "            {\n",
    "                \"visible\": False,\n",
    "                \"name\": \"aliasApps\"\n",
    "            }\n",
    "        ],\n",
    "        \"basedOnTemplate\": {\n",
    "            \"value\": \"CustomWebAppTemplateId\",\n",
    "        },\n",
    "        \"schemas\": [\n",
    "            \"urn:ietf:params:scim:schemas:oracle:idcs:App\",\n",
    "            \"urn:ietf:params:scim:schemas:oracle:idcs:extension:requestable:App\",\n",
    "            \"urn:ietf:params:scim:schemas:oracle:idcs:extension:webTierPolicy:App\"\n",
    "        ]\n",
    "    }\n",
    "    \n",
    "    appscreateurl = baseurl + \"/admin/v1/Apps\"\n",
    "    response = requests.post(appscreateurl, data = json.dumps(apppayload), headers = appsheaders, verify=False).json()\n",
    "    print(response)\n",
    "    targetappid = response[\"id\"]\n",
    "    \n",
    "    cggranturl = baseurl + \"/admin/v1/Grants\"\n",
    "    grantpayload = {\n",
    "        \"app\": {\n",
    "            \"value\": \"IDCSAppId\"\n",
    "          },\n",
    "        \"entitlement\": {\n",
    "            \"attributeName\": \"appRoles\",\n",
    "            \"attributeValue\": cgroleval\n",
    "          },\n",
    "        \"grantMechanism\": \"ADMINISTRATOR_TO_APP\",\n",
    "        \"grantee\": {\n",
    "            \"value\": targetappid,\n",
    "            \"type\": \"App\"\n",
    "        },\n",
    "        \"schemas\": [\n",
    "            \"urn:ietf:params:scim:schemas:oracle:idcs:Grant\"\n",
    "        ]\n",
    "    }\n",
    "    response = requests.post(cggranturl, data = json.dumps(grantpayload), headers = appsheaders, verify=False)\n",
    "    \n",
    "    appstatusurl = baseurl + \"/admin/v1/AppStatusChanger/\" + targetappid\n",
    "    statuspayload = {\n",
    "      \"active\": True,\n",
    "      \"schemas\": [\n",
    "        \"urn:ietf:params:scim:schemas:oracle:idcs:AppStatusChanger\"\n",
    "      ]\n",
    "    }\n",
    "    response = requests.put(appstatusurl, data = json.dumps(statuspayload), headers = appsheaders, verify=False)\n",
    "    print(response.text)\n",
    "    \n",
    "else:\n",
    "    targetappid = appslist[0][\"id\"]\n",
    "\n",
    "print(targetappid)\n"
   ]
  },
  {
   "cell_type": "markdown",
   "metadata": {},
   "source": [
    "___"
   ]
  },
  {
   "cell_type": "markdown",
   "metadata": {},
   "source": [
    "## 4 - Patch App with Policy"
   ]
  },
  {
   "cell_type": "code",
   "execution_count": null,
   "metadata": {},
   "outputs": [],
   "source": [
    "policyurl = baseurl + \"/admin/v1/Apps/\" + targetappid + \"?attributes=urn:ietf:params:scim:schemas:oracle:idcs:extension:webTierPolicy:App:webTierPolicyJson\"\n",
    "\n",
    "currentpolicy = requests.get(policyurl, headers = appsheaders, verify=False).json().get(\"urn:ietf:params:scim:schemas:oracle:idcs:extension:webTierPolicy:App\", None)\n",
    "\n",
    "if(currentpolicy):\n",
    "    policyjson = currentpolicy[\"webTierPolicyJson\"]\n",
    "    print(\"Current Policy:\")\n",
    "    print(policyjson)"
   ]
  },
  {
   "cell_type": "markdown",
   "metadata": {
    "collapsed": true
   },
   "source": [
    "Specify the target Policy"
   ]
  },
  {
   "cell_type": "code",
   "execution_count": null,
   "metadata": {},
   "outputs": [],
   "source": [
    "targetpolicy = None\n",
    "\n",
    "def getpolicy(pol):\n",
    "    global targetpolicy\n",
    "    if(pol):\n",
    "        targetpolicy = json.loads(pol);\n",
    "\n",
    "interact(getpolicy, pol=widgets.Textarea(description='Target Policy:', layout=Layout(width='60%', height='300px')))"
   ]
  },
  {
   "cell_type": "code",
   "execution_count": null,
   "metadata": {},
   "outputs": [],
   "source": [
    "validatorUrl = baseurl  + \"/admin/v1/WebTierPolicyJsonValidator\"\n",
    "\n",
    "valdata = {\n",
    "    \"webTierPolicyJson\": json.dumps(targetpolicy),\n",
    "    \"schemas\": [\"urn:ietf:params:scim:schemas:oracle:idcs:WebTierPolicyJsonValidator\"]\n",
    "}\n",
    "\n",
    "response = requests.post(validatorUrl, data = json.dumps(valdata), headers = appsheaders, verify=False).json()\n",
    "\n",
    "if response.get(\"status\", None) != None:\n",
    "    print(\"Policy Validation Failed. Rectify the Target Policy in previous step and try again\")\n",
    "    print(response.get(\"detail\", None))\n",
    "else:\n",
    "    apppatchurl = baseurl + \"/admin/v1/Apps/\" + targetappid\n",
    "    patchpayload = {\n",
    "    \"schemas\": [\"urn:ietf:params:scim:api:messages:2.0:PatchOp\"],\n",
    "     \"Operations\": [{\n",
    "          \"op\"    : \"replace\",\n",
    "          \"path\"  : \"isWebTierPolicy\",\n",
    "          \"value\" :  True\n",
    "     },{\n",
    "          \"op\"    : \"replace\",\n",
    "          \"path\"  : \"urn:ietf:params:scim:schemas:oracle:idcs:extension:webTierPolicy:App:webTierPolicyJson\",\n",
    "          \"value\" : json.dumps(targetpolicy)\n",
    "     }]\n",
    "    }\n",
    "    response = requests.patch(apppatchurl, data = json.dumps(patchpayload), headers = appsheaders, verify=False)\n",
    "    print(\"Application policy setup done\")\n",
    "    \n"
   ]
  },
  {
   "cell_type": "markdown",
   "metadata": {},
   "source": [
    "___"
   ]
  },
  {
   "cell_type": "code",
   "execution_count": null,
   "metadata": {},
   "outputs": [],
   "source": [
    "policyurl = baseurl + \"/admin/v1/Apps/\" + targetappid + \"?attributes=urn:ietf:params:scim:schemas:oracle:idcs:extension:webTierPolicy:App:webTierPolicyJson\"\n",
    "\n",
    "currentpolicy = requests.get(policyurl, headers = appsheaders, verify=False).json().get(\"urn:ietf:params:scim:schemas:oracle:idcs:extension:webTierPolicy:App\", None)\n",
    "\n",
    "if(currentpolicy):\n",
    "    policyjson = currentpolicy[\"webTierPolicyJson\"]\n",
    "    print(\"Current Policy:\")\n",
    "    print(policyjson)"
   ]
  },
  {
   "cell_type": "code",
   "execution_count": null,
   "metadata": {
    "collapsed": true
   },
   "outputs": [],
   "source": []
  }
 ],
 "metadata": {
  "kernelspec": {
   "display_name": "Python3",
   "language": "python",
   "name": "python3"
  },
  "language_info": {
   "codemirror_mode": {
    "name": "ipython",
    "version": 3
   },
   "file_extension": ".py",
   "mimetype": "text/x-python",
   "name": "python",
   "nbconvert_exporter": "python",
   "pygments_lexer": "ipython3",
   "version": "3.6.2"
  }
 },
 "nbformat": 4,
 "nbformat_minor": 2
}
