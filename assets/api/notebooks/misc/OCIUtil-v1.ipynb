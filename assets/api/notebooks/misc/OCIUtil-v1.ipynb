{
 "cells": [
  {
   "cell_type": "markdown",
   "metadata": {},
   "source": [
    "# This Utility demonstrates IDCS API's usage with respect to groups and app roles"
   ]
  },
  {
   "cell_type": "markdown",
   "metadata": {},
   "source": [
    "### Pre-requisties -\n",
    "Create a trusted app in IDCS with **Identity Domain Administrator** API access and **Client Credentials** grant. Gather it's `client ID` and `secret`. This is needed to call the REST API operations."
   ]
  },
  {
   "cell_type": "code",
   "execution_count": 1,
   "metadata": {
    "collapsed": true
   },
   "outputs": [],
   "source": [
    "import requests, json, base64, urllib.parse"
   ]
  },
  {
   "cell_type": "markdown",
   "metadata": {},
   "source": [
    "#### Enter Environment Details"
   ]
  },
  {
   "cell_type": "code",
   "execution_count": null,
   "metadata": {
    "collapsed": true
   },
   "outputs": [],
   "source": [
    "tenant = \"\"\n",
    "clientId = ''\n",
    "clientSecret = ''\n",
    " \n",
    "domain = \"identity.oraclecloud.com\"\n",
    "port = \"443\"\n",
    "baseurl = 'https://' + tenant + '.' + domain + ':' + port\n",
    "configurl =  baseurl + '/.well-known/idcs-configuration'"
   ]
  },
  {
   "cell_type": "markdown",
   "metadata": {},
   "source": [
    "#### Get an Access Token for calling REST API's"
   ]
  },
  {
   "cell_type": "code",
   "execution_count": null,
   "metadata": {
    "collapsed": true
   },
   "outputs": [],
   "source": [
    "config = None\n",
    "response = requests.get(configurl).text\n",
    "config = json.loads(response)\n",
    "tokenurl = config[\"openid-configuration\"][\"token_endpoint\"]\n",
    "\n",
    "grant_type = \"client_credentials\"\n",
    "scope = \"urn:opc:idm:__myscopes__\"\n",
    "\n",
    "basicauthHeader = base64.b64encode(bytes(clientId + \":\" + clientSecret, 'utf-8')) \n",
    "reqdata = {'grant_type': grant_type, 'scope' : scope}\n",
    "reqheaders = {'Authorization': 'Basic ' + basicauthHeader.decode(\"utf-8\"), 'content-type': 'application/x-www-form-urlencoded'}\n",
    "\n",
    "response = requests.post(tokenurl, data = reqdata, headers = reqheaders)\n",
    "accesstoken = response.json()[\"access_token\"]\n",
    "headers = {'Authorization': 'Bearer ' + accesstoken, 'content-type': 'application/json'}\n",
    "print(accesstoken)"
   ]
  },
  {
   "cell_type": "markdown",
   "metadata": {},
   "source": [
    "#### Define Reusuable Functions"
   ]
  },
  {
   "cell_type": "code",
   "execution_count": null,
   "metadata": {
    "collapsed": true
   },
   "outputs": [],
   "source": [
    "def createGroup(gname, accesstoken, baseurl):\n",
    "    groupurl = baseurl + \"/admin/v1/Groups\"    \n",
    "    filter = \"?filter=displayName eq \\\"\" + gname + \"\\\"\"\n",
    "    glist = requests.get(groupurl + filter, headers = headers).json()[\"Resources\"]\n",
    "    \n",
    "    if len(glist) == 0:\n",
    "        print(\"Creating group \", gname)\n",
    "        \n",
    "        grouppayload = {\n",
    "          \"displayName\": gname,\n",
    "          \"urn:ietf:params:scim:schemas:oracle:idcs:extension:group:Group\": {\n",
    "            \"creationMechanism\": \"api\",\n",
    "            \"description\": gname\n",
    "            },\n",
    "  \n",
    "          \"schemas\": [\n",
    "            \"urn:ietf:params:scim:schemas:core:2.0:Group\",\n",
    "            \"urn:ietf:params:scim:schemas:oracle:idcs:extension:group:Group\",\n",
    "            \"urn:ietf:params:scim:schemas:extension:custom:2.0:Group\"\n",
    "          ]\n",
    "        }\n",
    "        response = requests.post(groupurl, data = json.dumps(grouppayload), headers = headers).json()\n",
    "        print(\"Group {} created with ID {}\".format(gname, response[\"id\"]))\n",
    "        return response[\"id\"]\n",
    "    else:\n",
    "        print(\"Group {} already exists\".format(gname))\n",
    "        return glist[0][\"id\"]\n",
    "\n",
    "def getGroupId(gname):\n",
    "    groupurl = baseurl + \"/admin/v1/Groups\"    \n",
    "    filter = \"?filter=displayName eq \\\"\" + gname + \"\\\"\"\n",
    "    glist = requests.get(groupurl + filter, headers = headers).json()[\"Resources\"]\n",
    "    \n",
    "    if len(glist) > 0:\n",
    "        return glist[0][\"id\"]\n",
    "    else:\n",
    "        return \"DOESNOTEXIST\"\n",
    "    \n",
    "def getAppId(aname):\n",
    "    appurl = baseurl + \"/admin/v1/Apps\"\n",
    "    \n",
    "    filter = \"?filter=displayName eq \\\"\" + aname + \"\\\"\"\n",
    "    applist = requests.get(appurl + filter, headers = headers).json()[\"Resources\"]\n",
    "    if len(applist) > 0:\n",
    "        return applist[0][\"id\"]\n",
    "    else:\n",
    "        return None\n",
    "    \n",
    "    \n",
    "def grantAppToGroup(appid, gid):\n",
    "    granturl = baseurl + \"/admin/v1/Grants\"\n",
    "    \n",
    "    grantpayload = {\n",
    "      \"app\": {\n",
    "            \"value\": appid\n",
    "      },\n",
    "      \"grantMechanism\": \"ADMINISTRATOR_TO_GROUP\",\n",
    "      \"grantee\": {\n",
    "        \"value\": gid,\n",
    "        \"type\": \"Group\"\n",
    "      },\n",
    "      \"schemas\": [\n",
    "        \"urn:ietf:params:scim:schemas:oracle:idcs:Grant\"\n",
    "      ]\n",
    "    }\n",
    "        \n",
    "    response = requests.post(granturl, data = json.dumps(grantpayload), headers = headers).json()\n",
    "    \n",
    "    if(\"app\" in response.keys()):\n",
    "        print(response[\"app\"][\"value\"])\n",
    "    else:\n",
    "        print(response)\n",
    "        \n",
    "def grantAppRoleToGroup(approleid,appid,gid):\n",
    "    granturl = baseurl + \"/admin/v1/Grants\"\n",
    "    \n",
    "    grantpayload = {\n",
    "      \"app\": {\n",
    "            \"value\": appid\n",
    "      },\n",
    "      \"entitlement\": {\n",
    "        \"attributeName\": \"appRoles\",\n",
    "        \"attributeValue\": approleid\n",
    "      },\n",
    "      \"grantMechanism\": \"ADMINISTRATOR_TO_GROUP\",\n",
    "      \"grantee\": {\n",
    "        \"value\": gid,\n",
    "        \"type\": \"Group\"\n",
    "      },\n",
    "      \"schemas\": [\n",
    "        \"urn:ietf:params:scim:schemas:oracle:idcs:Grant\"\n",
    "      ]\n",
    "    }\n",
    "        \n",
    "    response = requests.post(granturl, data = json.dumps(grantpayload), headers = headers).json()\n",
    "    \n",
    "    if(\"app\" in response.keys()):\n",
    "        print(response[\"app\"][\"value\"])\n",
    "    else:\n",
    "        print(response)\n",
    "\n",
    "def getAppDeatils(appid, filter=\"\"):\n",
    "    appurl = baseurl + \"/admin/v1/Apps/\" + appid + filter\n",
    "    return requests.get(appurl, headers = headers).json()\n",
    "\n",
    " \n",
    "def getapproleids(approlename):\n",
    "    approleurl = baseurl + \"/admin/v1/AppRoles\"\n",
    "    filter = \"?filter=displayName eq \\\"\" + approlename + \"\\\"\"\n",
    "    approlelist = requests.get(approleurl + filter, headers = headers).json()[\"Resources\"]\n",
    "    \n",
    "    if(len(approlelist) > 0):\n",
    "        return approlelist[0][\"id\"], approlelist[0][\"app\"][\"value\"]\n",
    "    else:\n",
    "        return None, None\n",
    "\n",
    "def revokeAppRoleFromGroup(appolename, gname):\n",
    "    gid = getGroupId(gname)\n",
    "    approleid,appid = getapproleids(appolename)\n",
    "    grantid=\"DOESNOTEXIST\"\n",
    "    \n",
    "    granturl = baseurl + \"/admin/v1/Grants\"\n",
    "    filter = \"?filter=(grantMechanism eq \\\"ADMINISTRATOR_TO_GROUP\\\")\"\n",
    "    res = requests.get(granturl + filter, headers = headers)\n",
    "    grantlist = requests.get(granturl + filter, headers = headers).json()[\"Resources\"]\n",
    "    for grant in grantlist:\n",
    "        e = grant.get(\"entitlement\", dict()).get(\"attributeValue\",\"\")\n",
    "        g = grant.get(\"grantee\", \"\")[\"value\"]\n",
    "        a = grant.get(\"app\", \"\")[\"value\"]\n",
    "        if((a==appid) and (g==gid) and (e==approleid)):\n",
    "            grantid = grant[\"id\"]\n",
    "            break\n",
    "    res = requests.delete(granturl + \"/\" + grantid, headers = headers)\n",
    "    print(res.text)\n",
    "    \n",
    "def revokeAppFromGroup(appname, gname):\n",
    "    appid = getAppId(appname)\n",
    "    gid = getGroupId(gname)\n",
    "    grantid=\"DOESNOTEXIST\"\n",
    "    \n",
    "    granturl = baseurl + \"/admin/v1/Grants\"\n",
    "    filter = \"?filter=(grantMechanism eq \\\"ADMINISTRATOR_TO_GROUP\\\")\"\n",
    "    res = requests.get(granturl + filter, headers = headers)\n",
    "    grantlist = requests.get(granturl + filter, headers = headers).json()[\"Resources\"]\n",
    "    for grant in grantlist:\n",
    "        g = grant.get(\"grantee\", \"\")[\"value\"]\n",
    "        a = grant.get(\"app\", \"\")[\"value\"]\n",
    "        if((a==appid) and (g==gid)):\n",
    "            grantid = grant[\"id\"]\n",
    "            break\n",
    "            \n",
    "    res = requests.delete(granturl + \"/\" + grantid, headers = headers)\n",
    "    print(res.text)\n",
    "    \n",
    "\n",
    "def deleteGroup(gname):\n",
    "    gid = getGroupId(gname)\n",
    "    groupurl = baseurl + \"/admin/v1/Groups/\" + gid\n",
    "    \n",
    "    res = requests.delete(groupurl, headers = headers)\n",
    "    print(res.text)"
   ]
  },
  {
   "cell_type": "markdown",
   "metadata": {},
   "source": [
    "**Create 2 groups**\n",
    "*   < poc-number >-admin\n",
    "*   < poc-number >-user\n"
   ]
  },
  {
   "cell_type": "code",
   "execution_count": null,
   "metadata": {
    "collapsed": true
   },
   "outputs": [],
   "source": [
    "pocnumber = \"100\""
   ]
  },
  {
   "cell_type": "code",
   "execution_count": null,
   "metadata": {
    "collapsed": true
   },
   "outputs": [],
   "source": [
    "admingrp = pocnumber + \"-admin\"\n",
    "usergrp = pocnumber + \"-user\"\n",
    "\n",
    "admingrpid = createGroup(admingrp, accesstoken, baseurl)\n",
    "usergrpid = createGroup(usergrp, accesstoken, baseurl)\n",
    "\n",
    "print(admingrpid)\n",
    "print(usergrpid)"
   ]
  },
  {
   "cell_type": "markdown",
   "metadata": {
    "collapsed": true
   },
   "source": [
    "**Assign BMCS-SAML Application to those groups**"
   ]
  },
  {
   "cell_type": "code",
   "execution_count": null,
   "metadata": {
    "collapsed": true
   },
   "outputs": [],
   "source": [
    "appname = \"BMCS-SAML\""
   ]
  },
  {
   "cell_type": "code",
   "execution_count": null,
   "metadata": {
    "collapsed": true
   },
   "outputs": [],
   "source": [
    "appid = getAppId(appname)\n",
    "\n",
    "if appid:\n",
    "    grantAppToGroup(appid,admingrpid)\n",
    "    grantAppToGroup(appid,usergrpid)\n",
    "else:\n",
    "    print(\"No Application found with the name {}\".format(appname))"
   ]
  },
  {
   "cell_type": "markdown",
   "metadata": {},
   "source": [
    " **Lookup Security ID and Client ID for “OCI-Federation” trusted application (optional)**"
   ]
  },
  {
   "cell_type": "code",
   "execution_count": null,
   "metadata": {
    "collapsed": true
   },
   "outputs": [],
   "source": [
    "trustedappname = \"OCI-Federation\"\n",
    "\n",
    "x = getAppDeatils(getAppId(trustedappname), filter=\"\")\n",
    "print(\"Security ID = {}\".format(x['clientSecret']))\n",
    "print(\"Client ID = {}\".format(x['name']))"
   ]
  },
  {
   "cell_type": "markdown",
   "metadata": {},
   "source": [
    "**Assign to a given set of Application Roles above groups**\n",
    "\n",
    "e.g.\n",
    "* assign DBaaS Admin role to <poc-number>-admin\n",
    "* assign JaaS Admin role to <poc-number>-admin\n",
    "* assign Compute.Compute_Monitor role to <poc-number>-user"
   ]
  },
  {
   "cell_type": "code",
   "execution_count": null,
   "metadata": {
    "collapsed": true
   },
   "outputs": [],
   "source": [
    "appolename = 'Compute.Compute_Monitor'\n",
    "\n",
    "approleid,appid = getapproleids(appolename)\n",
    "if(approleid):\n",
    "    grantAppRoleToGroup(approleid,appid,usergrpid)\n",
    "else:\n",
    "     print(\"AppRole {} does not exist\".format(appolename))\n",
    "\n",
    "appolename = 'JaaS_Administrator'\n",
    "\n",
    "approleid,appid = getapproleids(appolename)\n",
    "if(approleid):\n",
    "     grantAppRoleToGroup(approleid,appid,admingrpid)\n",
    "else:\n",
    "     print(\"AppRole {} does not exist\".format(appolename))"
   ]
  },
  {
   "cell_type": "markdown",
   "metadata": {},
   "source": [
    "**Rollback Changes done**\n",
    "\n"
   ]
  },
  {
   "cell_type": "code",
   "execution_count": null,
   "metadata": {
    "collapsed": true
   },
   "outputs": [],
   "source": [
    "# Revoke App Roles\n",
    "revokeAppRoleFromGroup('Compute.Compute_Monitor', usergrp)\n",
    "revokeAppRoleFromGroup('JaaS_Administrator', admingrp)\n",
    "\n",
    "# Revoke App\n",
    "revokeAppFromGroup(appname, usergrp)\n",
    "revokeAppFromGroup(appname, admingrp)\n",
    "\n",
    "# Delete Groups\n",
    "deleteGroup(usergrp)\n",
    "deleteGroup(admingrp)"
   ]
  },
  {
   "cell_type": "code",
   "execution_count": null,
   "metadata": {
    "collapsed": true
   },
   "outputs": [],
   "source": []
  }
 ],
 "metadata": {
  "kernelspec": {
   "display_name": "Python3",
   "language": "python",
   "name": "python3"
  },
  "language_info": {
   "codemirror_mode": {
    "name": "ipython",
    "version": 3
   },
   "file_extension": ".py",
   "mimetype": "text/x-python",
   "name": "python",
   "nbconvert_exporter": "python",
   "pygments_lexer": "ipython3",
   "version": "3.6.2"
  }
 },
 "nbformat": 4,
 "nbformat_minor": 2
}
