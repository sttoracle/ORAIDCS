{
 "cells": [
  {
   "cell_type": "markdown",
   "metadata": {},
   "source": [
    "Fusion App template has wrong SAML parameters due to which SSO does not work. Follow the steps below to patch an already configured app to have correct SSO parameters.\n",
    "\n",
    "**Note**: The steps apply to an app and doesn't fix the template.\n",
    "\n",
    "## Pre-requisties -\n",
    "\n",
    "Create a trusted app in IDCS with **Identity Domain Administrator** privilege. Gather it's `client ID` and `secret`. This is needed to call the *patch* operation."
   ]
  },
  {
   "cell_type": "code",
   "execution_count": null,
   "metadata": {
    "collapsed": true
   },
   "outputs": [],
   "source": [
    "import requests, json, base64, urllib.parse"
   ]
  },
  {
   "cell_type": "code",
   "execution_count": null,
   "metadata": {
    "collapsed": true
   },
   "outputs": [],
   "source": [
    "tenant = \"\"\n",
    "clientId = ''\n",
    "clientSecret = ''\n",
    "\n",
    "domain = \"identity.oraclecloud.com\"\n",
    "port = \"443\"\n",
    "baseurl = 'https://' + tenant + '.' + domain + ':' + port\n",
    "configurl =  baseurl + '/.well-known/idcs-configuration'"
   ]
  },
  {
   "cell_type": "markdown",
   "metadata": {},
   "source": [
    "Default App name is provided. If you have changed the App name while adding from template, change it below."
   ]
  },
  {
   "cell_type": "code",
   "execution_count": null,
   "metadata": {
    "collapsed": true
   },
   "outputs": [],
   "source": [
    "targetappname = \"Oracle Fusion Applications Release 13\""
   ]
  },
  {
   "cell_type": "markdown",
   "metadata": {},
   "source": [
    "* Generate the Access Token \n",
    "* Search the App"
   ]
  },
  {
   "cell_type": "code",
   "execution_count": null,
   "metadata": {
    "collapsed": true
   },
   "outputs": [],
   "source": [
    "config = None\n",
    "response = requests.get(configurl).text\n",
    "config = json.loads(response)\n",
    "tokenurl = config[\"openid-configuration\"][\"token_endpoint\"]\n",
    "\n",
    "grant_type = \"client_credentials\"\n",
    "scope = \"urn:opc:idm:__myscopes__\"\n",
    "\n",
    "basicauthHeader = base64.b64encode(bytes(clientId + \":\" + clientSecret, 'utf-8')) \n",
    "reqdata = {'grant_type': grant_type, 'scope' : scope}\n",
    "reqheaders = {'Authorization': 'Basic ' + basicauthHeader.decode(\"utf-8\"), 'content-type': 'application/x-www-form-urlencoded'}\n",
    "\n",
    "response = requests.post(tokenurl, data = reqdata, headers = reqheaders)\n",
    "accesstoken = response.json()[\"access_token\"]\n",
    "print(accesstoken)"
   ]
  },
  {
   "cell_type": "code",
   "execution_count": null,
   "metadata": {
    "collapsed": true
   },
   "outputs": [],
   "source": [
    "appsurl = baseurl + \"/admin/v1/Apps?attributes=urn:ietf:params:scim:schemas:oracle:idcs:extension:samlServiceProvider:App,aliasApps&filter=displayName eq \\\"\" + targetappname + \"\\\"\"\n",
    "targetappid = None\n",
    "\n",
    "appsheaders = {'Authorization': 'Bearer ' + accesstoken, 'content-type': 'application/json'}\n",
    "appslist = requests.get(appsurl, headers = appsheaders).json()[\"Resources\"]\n",
    "fapp = appslist[0]\n",
    "\n",
    "print(fapp[\"id\"])"
   ]
  },
  {
   "cell_type": "code",
   "execution_count": null,
   "metadata": {
    "collapsed": true
   },
   "outputs": [],
   "source": [
    "print(fapp['urn:ietf:params:scim:schemas:oracle:idcs:extension:samlServiceProvider:App'])\n",
    "applinks = fapp['aliasApps']\n",
    "applinkids = [i['value'] for i in applinks]"
   ]
  },
  {
   "cell_type": "code",
   "execution_count": null,
   "metadata": {
    "collapsed": true
   },
   "outputs": [],
   "source": [
    "apppatchurl = baseurl + \"/admin/v1/Apps/\" + fapp[\"id\"]\n",
    "patchpayload = { \"schemas\": [\n",
    "    \"urn:ietf:params:scim:api:messages:2.0:PatchOp\"\n",
    "  ],\n",
    "  \"Operations\": [\n",
    "{\n",
    "      \"op\": \"replace\",\n",
    "      \"path\": \"urn:ietf:params:scim:schemas:oracle:idcs:extension:samlServiceProvider:App:assertionConsumerUrl\",\n",
    "      \"value\":  \"https://${app.serviceParams[name='tenant']}-login.${app.serviceParams[name='domain']}/oam/server/fed/sp/sso\"\n",
    "      \n",
    "    },\n",
    "    {\n",
    "      \"op\": \"replace\",\n",
    "      \"path\": \"urn:ietf:params:scim:schemas:oracle:idcs:extension:samlServiceProvider:App:logoutRequestUrl\",\n",
    "      \"value\":  \"https://${app.serviceParams[name='tenant']}-login.${app.serviceParams[name='domain']}/oamfed/sp/samlv20\"\n",
    "      \n",
    "    },\n",
    "    {\n",
    "      \"op\": \"replace\",\n",
    "      \"path\": \"urn:ietf:params:scim:schemas:oracle:idcs:extension:samlServiceProvider:App:logoutResponseUrl\",\n",
    "      \"value\":  \"https://${app.serviceParams[name='tenant']}-login.${app.serviceParams[name='domain']}/oamfed/sp/samlv20\"\n",
    "      \n",
    "    },\n",
    "    {\n",
    "      \"op\": \"replace\",\n",
    "      \"path\": \"urn:ietf:params:scim:schemas:oracle:idcs:extension:samlServiceProvider:App:partnerProviderId\",\n",
    "      \"value\":  \"https://${app.serviceParams[name='tenant']}-login.${app.serviceParams[name='domain']}:443/oam/fed\"\n",
    "      \n",
    "    }\n",
    "]}\n",
    "\n",
    "response = requests.patch(apppatchurl, data = json.dumps(patchpayload), headers = appsheaders)\n",
    "\n",
    "print(response)"
   ]
  },
  {
   "cell_type": "code",
   "execution_count": null,
   "metadata": {
    "collapsed": true
   },
   "outputs": [],
   "source": [
    "for applink in applinkids:\n",
    "    t = requests.get(baseurl + \"/admin/v1/Apps/\" + applink, headers = appsheaders).json()\n",
    "\n",
    "    newpageurl = {\n",
    "      targetappname + ' CRM': lambda: \"https://${app.serviceParams[name='tenant']}-fa-ext.${app.serviceParams[name='domain']}/customer/faces/CrmFusionHome\",\n",
    "      targetappname + ' SCM': lambda: \"https://${app.serviceParams[name='tenant']}-fa-ext.${app.serviceParams[name='domain']}/costManagement/faces/FuseWelcome\",\n",
    "      targetappname + ' HCM': lambda: \"https://${app.serviceParams[name='tenant']}-fa-ext.${app.serviceParams[name='domain']}/hcmCore/faces/HcmFusionHome\",\n",
    "      targetappname + ' ERP': lambda: \"https://${app.serviceParams[name='tenant']}-fa-ext.${app.serviceParams[name='domain']}/ledger/faces/FuseWelcome\"\n",
    "    }[t[\"displayName\"]]()\n",
    "    \n",
    "    print(newpageurl)\n",
    "    \n",
    "    linkpatchpayload = { \"schemas\": [\"urn:ietf:params:scim:api:messages:2.0:PatchOp\"],\n",
    "                          \"Operations\": [\n",
    "                                {\n",
    "                                    \"op\": \"replace\",\n",
    "                                    \"path\": 'landingPageUrl',\n",
    "                                    \"value\":  newpageurl\n",
    "                                }\n",
    "                        ]}\n",
    "    \n",
    "    res = requests.patch(baseurl + \"/admin/v1/Apps/\" + applink, data = json.dumps(linkpatchpayload), headers = appsheaders)\n",
    "    print(res.text)\n",
    "    \n",
    "    \n",
    "    "
   ]
  },
  {
   "cell_type": "code",
   "execution_count": null,
   "metadata": {
    "collapsed": true
   },
   "outputs": [],
   "source": []
  }
 ],
 "metadata": {
  "kernelspec": {
   "display_name": "Python3",
   "language": "python",
   "name": "python3"
  },
  "language_info": {
   "codemirror_mode": {
    "name": "ipython",
    "version": 3
   },
   "file_extension": ".py",
   "mimetype": "text/x-python",
   "name": "python",
   "nbconvert_exporter": "python",
   "pygments_lexer": "ipython3",
   "version": "3.6.2"
  }
 },
 "nbformat": 4,
 "nbformat_minor": 2
}
