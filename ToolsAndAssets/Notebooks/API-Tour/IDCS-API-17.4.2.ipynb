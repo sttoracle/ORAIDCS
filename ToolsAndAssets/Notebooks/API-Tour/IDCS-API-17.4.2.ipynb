{
 "cells": [
  {
   "cell_type": "markdown",
   "metadata": {},
   "source": [
    "# REST API Tour of Identity Cloud Service 17.4.2\n",
    "\n",
    "When you finish this, you will have a basic idea of how to use REST API interface of IDCS\n",
    "\n",
    "You will provide necessary details of your IDCS tenant; authenticate,generate, and inspect Access Token (AT); and finally use the AT to call IDCS User and Reporting API's.\n",
    "\n",
    "**After this assignment you will be able to:**\n",
    "\n",
    "- Explore and generate IDCS Access Token using 2-legged OAuth2 Authorization flow\n",
    "- Call IDCS User Management API's\n",
    "- Call IDCS Audit API's\n",
    "\n",
    "Let's get started!\n",
    "___"
   ]
  },
  {
   "cell_type": "markdown",
   "metadata": {},
   "source": [
    "## 1 - Discovery\n",
    "\n",
    "First let's gather information about your IDCS Tenant\n",
    "\n",
    "Run the following cell. Provide the following information and **Click** on **`Discover IDCS Config`** Button\n",
    "- Tenant name\n",
    "- Domain Name\n",
    "\n",
    "Then you will discover the IDCS End Points automatically.\n",
    "\n",
    "Explore by expanding the Discovered **`IDCS Configuration`**"
   ]
  },
  {
   "cell_type": "code",
   "execution_count": null,
   "metadata": {
    "collapsed": true,
    "scrolled": true
   },
   "outputs": [],
   "source": [
    "import pandas as pd, numpy as np, datetime as dt, matplotlib.pyplot as plt\n",
    "import requests, json\n",
    "from ipywidgets import widgets, Layout\n",
    "from IPython.display import display\n",
    "\n",
    "baseurl = None\n",
    "config = None\n",
    "tenant = widgets.Text()\n",
    "tenantD = widgets.HBox([widgets.Label(value=\"Tenant Name\"), tenant])\n",
    "domain = widgets.Text(value=\"identity.oraclecloud.com\")\n",
    "domainD = widgets.HBox([widgets.Label(value=\"Domain Name\"), domain])\n",
    "port = widgets.Text(value=\"443\")\n",
    "portD = widgets.HBox([widgets.Label(value=\"Port\"), port])\n",
    "recordenv = widgets.Button(description='Discover IDCS Config', button_style='info', tooltip='Get IDCS Confgiuration',)                     \n",
    "display(tenantD)\n",
    "display(domainD)\n",
    "display(portD)\n",
    "display(recordenv)\n",
    "\n",
    "def handle_submit(sender):\n",
    "    global config, baseurl\n",
    "    baseurl = 'https://' + tenant.value + '.' + domain.value + ':' + port.value\n",
    "    configurl =  baseurl + '/.well-known/idcs-configuration'\n",
    "    response = requests.get(configurl).text\n",
    "    config = json.loads(response)\n",
    "    configD = widgets.Accordion(children=[widgets.Textarea(value=json.dumps(config, indent=4, sort_keys=True), \n",
    "                                                             layout=Layout(width='100%', height='800px'))])\n",
    "    configD.set_title(0, 'IDCS Configuration')\n",
    "    configD.selected_index = None\n",
    "    display(configD)\n",
    "    \n",
    "recordenv.on_click(handle_submit)"
   ]
  },
  {
   "cell_type": "markdown",
   "metadata": {},
   "source": [
    "The Discovery End-Point was public and so didn't require any Access Token or other form of authentication\n",
    "\n",
    "___"
   ]
  },
  {
   "cell_type": "markdown",
   "metadata": {},
   "source": [
    "## 2 - Access Token (2-legged OAuth)\n",
    "\n",
    "Next We will get an OAuth Access Token  using 2-legged OAuth2 Authorization flow.\n",
    "\n",
    "Check out the following diagram of 2-legged flow -\n",
    "\n",
    "![OAuth2 2-Legged Diagram](resources/oauth2legged.jpg)"
   ]
  },
  {
   "cell_type": "markdown",
   "metadata": {},
   "source": [
    "Some minimal setup in IDCS is needed for the flow. \n",
    "\n",
    "- Login to your [IDCS Admin Console]() using Administrator credentials\n",
    "- Create an **App** that grants access to IDCS protected REST API's. \n",
    "- Record the `Client ID` and `Client Secret` from the App Configuration\n",
    "\n",
    "Follow the video below to create your App in IDCS."
   ]
  },
  {
   "cell_type": "code",
   "execution_count": null,
   "metadata": {},
   "outputs": [],
   "source": [
    "from IPython.display import HTML\n",
    "\n",
    "HTML('<iframe width=\"560\" height=\"315\" src=\"https://www.youtube.com/embed/A2LiNJRRINk?rel=0&amp;controls=1&amp;showinfo=0\" frameborder=\"0\" allowfullscreen></iframe>')"
   ]
  },
  {
   "cell_type": "markdown",
   "metadata": {
    "collapsed": true
   },
   "source": [
    "Now it's time to store the recorded `Client ID` and `Client Secret`. They will be used duing API call."
   ]
  },
  {
   "cell_type": "code",
   "execution_count": null,
   "metadata": {
    "collapsed": true
   },
   "outputs": [],
   "source": [
    "from getpass import getpass \n",
    "#Lets get the App's Client ID and Client secret. They will be needed for proceted API calls\n",
    "clientId = input('Client ID: ')\n",
    "clientSecret = getpass(prompt='Client Secret: ')"
   ]
  },
  {
   "cell_type": "markdown",
   "metadata": {},
   "source": [
    "For 2-legged OAuth flow, you will need to provide User credentials. Gather the credentials below."
   ]
  },
  {
   "cell_type": "code",
   "execution_count": null,
   "metadata": {
    "collapsed": true
   },
   "outputs": [],
   "source": [
    "#Get Username and Password\n",
    "userName = input('Login ID: ')\n",
    "userPwd = getpass(prompt='Password: ')"
   ]
  },
  {
   "cell_type": "markdown",
   "metadata": {},
   "source": [
    "Having collected all the necessary data, you can now generate **Access Token** from IDCS.\n",
    "\n",
    "The steps are -\n",
    "- Find the Token End-Point URL from IDCS Discovery Configuation\n",
    "- Specify the grant type as `password`\n",
    "- Pass the `Client ID` and `Client Secret` in base-64 encoded format as **HTTP Basic Authentication** header.  \n",
    "    > The format of the data is -\n",
    "    **<font color=\"blue\">b64encode(Client ID:Client Secret)</font>**\n",
    "- Make an **HTTP POST** call to the Token End-Point URL\n",
    "    - Include the `Authentication` Header\n",
    "    - POST data should contain - `Grant Type`, `User ID`, `User Password` and `Scope`\n",
    "- The POST response will contain the issued **Access Token**\n",
    "  \n",
    "View the **AT** from displayed Output   "
   ]
  },
  {
   "cell_type": "code",
   "execution_count": null,
   "metadata": {
    "collapsed": true
   },
   "outputs": [],
   "source": [
    "import base64, urllib.parse\n",
    "\n",
    "#Find the OAuth2 Token Endpoint from Discovery Config\n",
    "tokenurl = config[\"openid-configuration\"][\"token_endpoint\"]\n",
    "\n",
    "grant_type = \"password\" # Token grant_type for 2-legged flow\n",
    "scope = \"urn:opc:idm:__myscopes__\"\n",
    "\n",
    "#Token Endpoint needs the App Creds in base64 encoded Header\n",
    "basicauthHeader = base64.b64encode(bytes(clientId + \":\" + clientSecret, 'utf-8')) \n",
    "reqdata = {'grant_type': grant_type, 'username': userName, 'password': userPwd, 'scope' : scope}\n",
    "reqheaders = {'Authorization': 'Basic ' + basicauthHeader.decode(\"utf-8\"), 'content-type': 'application/x-www-form-urlencoded'}\n",
    "\n",
    "response = requests.post(tokenurl, data = reqdata, headers = reqheaders)\n",
    "accesstoken = response.json()[\"access_token\"]\n",
    "accesstokenD = widgets.Accordion(children=[widgets.Textarea(value=accesstoken, layout=Layout(width='100%', height='400px'))])\n",
    "accesstokenD.set_title(0, 'Access Token')\n",
    "accesstokenD.selected_index = None\n",
    "display(accesstokenD)"
   ]
  },
  {
   "cell_type": "markdown",
   "metadata": {},
   "source": [
    "Let's now examine the Access Token thus generated. Expand **Inspect Token** from the following cell's output and study the decoded token. Specifically observe the following attributes -\n",
    "> <font color=\"blue\">tok_type, aud, clientAppRoles, userAppRoles, scope, client_name, tenant</font>\n",
    "\n",
    "An `Access Token` can be used to call API's that fall under the **scope** values the token was issued with.\n"
   ]
  },
  {
   "cell_type": "code",
   "execution_count": null,
   "metadata": {
    "collapsed": true
   },
   "outputs": [],
   "source": [
    "import jwt\n",
    "\n",
    "jwtoken = jwt.decode(accesstoken, verify=False)\n",
    "\n",
    "jwtokenD = widgets.Accordion(children=[widgets.Textarea(value=json.dumps(jwtoken, indent=1), layout=Layout(width='100%', height='600px'))])\n",
    "jwtokenD.set_title(0, 'Inspect Token')\n",
    "jwtokenD.selected_index = None\n",
    "display(jwtokenD)\n"
   ]
  },
  {
   "cell_type": "markdown",
   "metadata": {},
   "source": [
    "___"
   ]
  },
  {
   "cell_type": "markdown",
   "metadata": {},
   "source": [
    "## 3 - User Management\n",
    "\n",
    "Armed with Access Token having **Scopes** that grant access to **User Administrator** level Admin API's, let's now get all the users currently in **IDCS**.\n",
    "\n",
    "Run the following cell to display IDCS Users with their **Email Address** and internal **ID** values\n",
    "\n",
    "> Notice that the User REST API call contains an **Authorization** Header where the **AT** is passed as a **Bearer Token**"
   ]
  },
  {
   "cell_type": "code",
   "execution_count": null,
   "metadata": {
    "collapsed": true
   },
   "outputs": [],
   "source": [
    "userurl = baseurl + \"/admin/v1/Users\"\n",
    "\n",
    "uheaders = {'Authorization': 'Bearer ' + accesstoken, 'content-type': 'application/json'}\n",
    "userlist = requests.get(userurl, headers = uheaders).json()[\"Resources\"]\n",
    "userDF = pd.DataFrame(userlist)\n",
    "userDispList = [userDF[\"userName\"], \n",
    "                userDF.emails.apply(lambda x: x[0][\"value\"] if x[0][\"primary\"] == True else x[1][\"value\"]), \n",
    "                userDF[\"id\"]]\n",
    "userDispDF = pd.concat(userDispList, axis=1)\n",
    "\n",
    "HTML(userDispDF.to_html())\n"
   ]
  },
  {
   "cell_type": "markdown",
   "metadata": {},
   "source": [
    "___"
   ]
  },
  {
   "cell_type": "markdown",
   "metadata": {},
   "source": [
    "## 4 - Analytics and Auditing\n",
    "\n",
    "If you have created the App exactly as shown in the Video above, the Access Token will also have access to **Audit Administrator** level Admin API's. That will enable you to query the **`Audit Events`** from IDCS and retrive data for **Analytics**.\n",
    "\n",
    "Let's query IDCS **Audit Events** API to retrieve **<font color=\"blue\">Login Success</font>** and **<font color=\"blue\">Login Failure<font>** Events. Those 2 events are passed to the API as **filter** conditions, since the Audit API fetches all possible user and admin level events in IDCS."
   ]
  },
  {
   "cell_type": "code",
   "execution_count": null,
   "metadata": {
    "collapsed": true
   },
   "outputs": [],
   "source": [
    "auditurl = baseurl + '/admin/v1/AuditEvents?filter=(eventId co \\\"sso.authentication.failure\\\" or eventId co \\\"sso.session.create.success\\\")&count=32000'\n",
    "\n",
    "audheaders = {'Authorization': 'Bearer ' + accesstoken, 'content-type': 'application/json'}\n",
    "audevents = requests.get(auditurl, headers = audheaders).json()[\"Resources\"]\n",
    "audeventsDF = pd.DataFrame(audevents)\n",
    "audeventsDF[\"timestamp\"] = pd.to_datetime(audeventsDF[\"timestamp\"])\n",
    "\n",
    "modDF = audeventsDF"
   ]
  },
  {
   "cell_type": "markdown",
   "metadata": {},
   "source": [
    "Now that the Login data has been retrived, let's plot to see the **Login Trend** of past 30 days "
   ]
  },
  {
   "cell_type": "code",
   "execution_count": null,
   "metadata": {
    "collapsed": true
   },
   "outputs": [],
   "source": [
    "NoOfDays = 30\n",
    "\n",
    "pltDF = modDF[modDF[\"timestamp\"] >= dt.datetime.now() - dt.timedelta(days=NoOfDays)]\n",
    "logindata = pltDF.groupby([pltDF[\"timestamp\"].dt.date, 'eventId'])['ecId'].count()\n",
    "\n",
    "logindata.unstack().plot(kind=\"bar\")\n",
    "plt.show()"
   ]
  },
  {
   "cell_type": "markdown",
   "metadata": {},
   "source": [
    "___"
   ]
  },
  {
   "cell_type": "code",
   "execution_count": null,
   "metadata": {
    "collapsed": true
   },
   "outputs": [],
   "source": []
  }
 ],
 "metadata": {
  "kernelspec": {
   "display_name": "Python 3",
   "language": "python",
   "name": "python3"
  },
  "language_info": {
   "codemirror_mode": {
    "name": "ipython",
    "version": 3
   },
   "file_extension": ".py",
   "mimetype": "text/x-python",
   "name": "python",
   "nbconvert_exporter": "python",
   "pygments_lexer": "ipython3",
   "version": "3.6.3"
  }
 },
 "nbformat": 4,
 "nbformat_minor": 2
}
