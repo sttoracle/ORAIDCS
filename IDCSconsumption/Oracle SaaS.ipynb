{
 "cells": [
  {
   "cell_type": "markdown",
   "metadata": {},
   "source": [
    "# Oracle SaaS\n",
    "## Human Capital Management\n",
    "## Enterprise Resource Planning\n",
    "## Customer Experience\n",
    "## Enterprise Performance Management\n",
    "## Internet of Things Apps\n",
    "## Supply Chain Management\n",
    "## Adaptive Intelligent Apps\n",
    "## SaaS Analytics\n",
    "## Industry Solutions\n",
    "## Deployment Options\n",
    "## Sales Cloud\n",
    "https://docs.oracle.com/en/cloud/paas/paas-saas-cloud/ocpsi/enabling-oracle-sales-cloud-global-human-resources-cloud-and-oracle-erp-cloud-federation-and-oa.html#GUID-E611CFA2-CA05-42F6-B404-4D06F265B364\n"
   ]
  },
  {
   "cell_type": "code",
   "execution_count": null,
   "metadata": {
    "collapsed": true
   },
   "outputs": [],
   "source": []
  }
 ],
 "metadata": {
  "kernelspec": {
   "display_name": "Python 3",
   "language": "python",
   "name": "python3"
  },
  "language_info": {
   "codemirror_mode": {
    "name": "ipython",
    "version": 3
   },
   "file_extension": ".py",
   "mimetype": "text/x-python",
   "name": "python",
   "nbconvert_exporter": "python",
   "pygments_lexer": "ipython3",
   "version": "3.6.3"
  }
 },
 "nbformat": 4,
 "nbformat_minor": 2
}
