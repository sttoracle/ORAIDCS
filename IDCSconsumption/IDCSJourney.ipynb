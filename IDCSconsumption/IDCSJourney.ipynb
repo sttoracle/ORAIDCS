{
 "cells": [
  {
   "cell_type": "markdown",
   "metadata": {},
   "source": [
    "# Oracle Identity Cloud Service\n",
    "There are many services on the Oracle Cloud yet they all have one item in common...A requirement to login!  Rather than forcing users to memorize a different name and password for each service, Oracle provides the Identity Cloud Service.  IDCS enables one to centrally manage users so they only need to know one user name but can have multiple authentication methods depending on the risk / security requirements of the services you are depending on. IDCS is not just for Oracle Cloud, it may also be used for other cloud services and even on-premises applications.\n",
    "\n",
    "![IDCSVision.png](images/IDCSVision.png)\n",
    "\n",
    "## Getting started\n",
    "* Administrative Information\n",
    "    * Administrator contact email (used in notifications to users) = (   @   )\n",
    "    * Administrative Time Zone (used for reports) = (       )\n",
    "\n",
    "### Determine IDCS Account type    \n",
    "![IDCSAccountType.png](images/IDCSAccountType.png)\n",
    "* Consumer ( Y / N ) or  \n",
    "* Enterprise ( Y / N )\n",
    "    * Foundation\n",
    "    * Basic\n",
    "        * Identity Synchronization - Active Directory to IDCS ( Y / N )\n",
    "        * Self-Service Password Reset ( Y / N )\n",
    "    * Standard\n",
    "        * User Self-Registration ( Y / N )\n",
    "        * Self-Service Access Requests ( Y / N )\n",
    "        * Login to IDCS via:\n",
    "            * Multi-Factor Authentication ( Y / N )\n",
    "            * Social Authentication ( Y / N )\n",
    "        * SSO for Third-Party Cloud Apps ( Y / N )\n",
    "        * User Provisioning and Synchronization for Third-Party Cloud Apps ( Y / N )\n",
    "        * SSO for on-Premises Apps ( Y / N )\n",
    "\t\t\t\t\n",
    "### How will Users Authenticate?\n",
    "![WhereIsPassword.png](images/WhereIsPassword.png)\n",
    "* IDCS Local Password ( Y / N )\n",
    "    * Will you allow users to change their forgotten password recovery eMail? ( Y / N )\n",
    "    * Which Password Policy?\n",
    "![PasswordPolicies.png](images/PasswordPolicies.png)\n",
    "        * Simple \n",
    "        * Standard \n",
    "        * Custom (Please define)   \n",
    "* Federate with SAML 2.0\n",
    "    * Oracle Access Manager / Oracle Identity Federation\n",
    "    * Microsoft Active Directory / Azure AD Premium\n",
    "    * Ping / Okta / Other SAML Identity Provider\n",
    "* Social Login\n",
    "    * Facebook, Google, LinkedIn, Microsoft, OpenID Connect, Twitter\n",
    "* Multi-Factor Authentication\n",
    "    * Security Questions\n",
    "    * Mobile Application OTP\n",
    "        * Notifications\n",
    "    * Text Message (SMS)\n",
    "    * Bypass Code\n",
    "    * Trusted Computer\n",
    "\n",
    "### How will users/groups be created?\n",
    "* Manually\n",
    "* CSV import\n",
    "* [Active Directory Bridge - Identity Synchronization ](AD%20Bridge.ipynb)\n",
    "* Identity Manager IDCS connector (out of scope???)\n",
    "* REST/SCIM APIs\n",
    "* Self Registration"
   ]
  }
 ],
 "metadata": {
  "kernelspec": {
   "display_name": "Python 3",
   "language": "python",
   "name": "python3"
  },
  "language_info": {
   "codemirror_mode": {
    "name": "ipython",
    "version": 3
   },
   "file_extension": ".py",
   "mimetype": "text/x-python",
   "name": "python",
   "nbconvert_exporter": "python",
   "pygments_lexer": "ipython3",
   "version": "3.6.3"
  }
 },
 "nbformat": 4,
 "nbformat_minor": 2
}
