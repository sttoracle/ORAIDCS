{
 "cells": [
  {
   "cell_type": "markdown",
   "metadata": {},
   "source": [
    "# CSV Import User / Group Creation\n",
    "Users, Groups and Applications can all be imported via CSV files that you have prepared for [users](https://docs.oracle.com/en/cloud/paas/identity-cloud/uaids/importing-user-accounts.html#UAIDS-GUID-A1A4DAC3-A0AB-49AC-A099-64806064DCAB) or [groups](https://docs.oracle.com/en/cloud/paas/identity-cloud/uaids/importing-groups.html). Imports can be monitored via Jobs.\n",
    "\n",
    "## Create Users\n",
    "Users can be imported with passwords (preferably hashed) and at a minimum, the file must have these exact column headings: \n",
    "* User ID \n",
    "* Last Name \n",
    "* First Name \n",
    "* Work Email.\n",
    "![UsersCSV](images/UserCSV.png)\n",
    "\n",
    "## Create Groups\n",
    "At a minimum, the file must have these exact column headings: \n",
    "* Display Name\n",
    "* Description\n",
    "* User Members\n",
    "\n",
    "Important to know:\n",
    "* The names of the users that you want to import into Oracle Identity Cloud Service must contain at least three characters. The names of the groups that you want to import into Oracle Identity Cloud Service must contain at least five characters.\n",
    "* The telephone numbers of the users that you want to import must meet the requirements of the RFC 3966 specification.\n",
    "* The maximum number of groups that can be imported in a single import job must not exceed 10,000.\n",
    "* The maximum number of user members per group row in your CSV file must not exceed seven.\n"
   ]
  },
  {
   "cell_type": "code",
   "execution_count": null,
   "metadata": {
    "collapsed": true
   },
   "outputs": [],
   "source": []
  }
 ],
 "metadata": {
  "kernelspec": {
   "display_name": "Python 3",
   "language": "python",
   "name": "python3"
  },
  "language_info": {
   "codemirror_mode": {
    "name": "ipython",
    "version": 3
   },
   "file_extension": ".py",
   "mimetype": "text/x-python",
   "name": "python",
   "nbconvert_exporter": "python",
   "pygments_lexer": "ipython3",
   "version": "3.6.3"
  }
 },
 "nbformat": 4,
 "nbformat_minor": 2
}
