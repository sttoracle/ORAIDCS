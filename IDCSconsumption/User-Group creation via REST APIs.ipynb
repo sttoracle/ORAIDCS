{
 "cells": [
  {
   "cell_type": "markdown",
   "metadata": {},
   "source": [
    "# User-Group creation via REST APIs\n",
    "Creating users via REST APIs requires leveraging a user/pwd and application/client secret/Client ID to create an Access Token.\n",
    "\n",
    "To Be Done:\n",
    "* http://140.86.32.135:8888/notebooks/IDCS-API.ipynb grab necessary cells\n",
    "* Add create user, update user, disable, delete (prompt for values in each???)\n",
    "* Add create group, add member(s), delete member, delete group (prompt for values in each???)"
   ]
  }
 ],
 "metadata": {
  "kernelspec": {
   "display_name": "Python 3",
   "language": "python",
   "name": "python3"
  },
  "language_info": {
   "codemirror_mode": {
    "name": "ipython",
    "version": 3
   },
   "file_extension": ".py",
   "mimetype": "text/x-python",
   "name": "python",
   "nbconvert_exporter": "python",
   "pygments_lexer": "ipython3",
   "version": "3.6.3"
  }
 },
 "nbformat": 4,
 "nbformat_minor": 2
}
