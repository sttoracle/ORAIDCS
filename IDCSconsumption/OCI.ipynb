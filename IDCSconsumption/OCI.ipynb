{
 "cells": [
  {
   "cell_type": "markdown",
   "metadata": {},
   "source": [
    "# Oracle Cloud Infrastructure (OCI)\n",
    "OCI (formerly known as Bare Metal Cloud Services - BMCS)  supports virtual user federation from IDCS\n",
    "Once setup, an IDCS User will pass along up to 50 group memberships to OCI.  Those groups are \"mapped\" to OCI groups and associated permissions will be granted to the user.\n",
    "\n",
    "Documentation for [Federating with Oracle Identity Cloud Service](https://docs.us-phoenix-1.oraclecloud.com/Content/Identity/Tasks/federatingIDCS.htm)\n",
    "\n"
   ]
  }
 ],
 "metadata": {
  "kernelspec": {
   "display_name": "Python 3",
   "language": "python",
   "name": "python3"
  },
  "language_info": {
   "codemirror_mode": {
    "name": "ipython",
    "version": 3
   },
   "file_extension": ".py",
   "mimetype": "text/x-python",
   "name": "python",
   "nbconvert_exporter": "python",
   "pygments_lexer": "ipython3",
   "version": "3.6.3"
  }
 },
 "nbformat": 4,
 "nbformat_minor": 2
}
