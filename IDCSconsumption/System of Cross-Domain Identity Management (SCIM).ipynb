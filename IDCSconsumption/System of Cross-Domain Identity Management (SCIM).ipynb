{
 "cells": [
  {
   "cell_type": "markdown",
   "metadata": {},
   "source": [
    "# System of Cross-Domain Identity Management (SCIM)\n",
    "\n",
    "Identity Cloud Services (IDCS) is SCIM 2.0 compliant.\n",
    "\n",
    "https://idcs-**yourtenant**.identity.oraclecloud.com/./.well-known/idcs-configuration\n",
    "\n",
    "Will return the services including SCIM which include:\n"
   ]
  },
  {
   "cell_type": "raw",
   "metadata": {},
   "source": [
    "\"scim-configuration\" : {\n",
    "    \"scim_resource_types_endpoint\" : \"https://idcs-**yourtenant**.identity.oraclecloud.com/admin/v1/ResourceTypes\",\n",
    "    \n",
    "    \"scim_schemas_endpoint\" : \"https://idcs-**yourtenant**.identity.oraclecloud.com/admin/v1/Schemas\",\n",
    "    \n",
    "    \"scim_service_provider_config_endpoint\" : \"https://idcs-**yourtenant**.identity.oraclecloud.com/admin/v1/ServiceProviderConfig\",\n",
    "    \n",
    "    \"scim_users_endpoint\" : \"https://idcs-**yourtenant**.identity.oraclecloud.com/admin/v1/Users\",\n",
    "    \n",
    "    \"scim_groups_endpoint\" : \"https://idcs-**yourtenant**.identity.oraclecloud.com/admin/v1/Groups\"\n",
    "    \n",
    "  }"
   ]
  },
  {
   "cell_type": "markdown",
   "metadata": {},
   "source": [
    "This follows [RFC 7644](https://www.ietf.org/mail-archive/web/scim/current/msg02506.html) which states:\n",
    "---\n",
    "The SCIM protocol specifies well-known endpoints and HTTP methods for\n",
    "   managing resources defined in the SCIM Core Schema document\n",
    "   ([RFC7643]); i.e., \"User\" and \"Group\" resources correspond to\n",
    "   \"/Users\" and \"/Groups\", respectively.\n",
    "---\n",
    "\n",
    "\n",
    "Microsoft Azure AD premium "
   ]
  },
  {
   "cell_type": "code",
   "execution_count": null,
   "metadata": {
    "collapsed": true
   },
   "outputs": [],
   "source": []
  }
 ],
 "metadata": {
  "kernelspec": {
   "display_name": "Python 3",
   "language": "python",
   "name": "python3"
  },
  "language_info": {
   "codemirror_mode": {
    "name": "ipython",
    "version": 3
   },
   "file_extension": ".py",
   "mimetype": "text/x-python",
   "name": "python",
   "nbconvert_exporter": "python",
   "pygments_lexer": "ipython3",
   "version": "3.6.3"
  }
 },
 "nbformat": 4,
 "nbformat_minor": 2
}
