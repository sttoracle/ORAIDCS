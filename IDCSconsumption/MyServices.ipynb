{
 "cells": [
  {
   "cell_type": "markdown",
   "metadata": {},
   "source": [
    "# MyServices\n",
    "MyServices is the \"dashboard\" to Oracle Cloud Infrastructure IaaS/PaaS services.  \n",
    "\n",
    "Work to to: \n",
    "* List of Services that fall into this category\n",
    "* Links to each Service and what \"can be done\" with IDCS"
   ]
  }
 ],
 "metadata": {
  "kernelspec": {
   "display_name": "Python 3",
   "language": "python",
   "name": "python3"
  },
  "language_info": {
   "codemirror_mode": {
    "name": "ipython",
    "version": 3
   },
   "file_extension": ".py",
   "mimetype": "text/x-python",
   "name": "python",
   "nbconvert_exporter": "python",
   "pygments_lexer": "ipython3",
   "version": "3.6.3"
  }
 },
 "nbformat": 4,
 "nbformat_minor": 2
}
