{
 "cells": [
  {
   "cell_type": "markdown",
   "metadata": {},
   "source": [
    "# Identity Synchronization - Active Directory to IDCS\n",
    "[Understanding the Bridge](https://docs.oracle.com/en/cloud/paas/identity-cloud/uaids/understanding-bridge.html)\n",
    " \n",
    "Active Directory's Users and Groups can be synchronized to IDCS using the Active Directory Bridge.\n",
    "You can select which AD containers of Users and Groups will be synchronized.\n",
    "A User's password is not synchronized so users will need to \"activate\" and set a password or federate into IDCS\n",
    "## Requirements\n",
    "* A Windows machine (Win7+, Server 2008 R2+) to run the service\n",
    "    * That is a Member of the Active Directory domain for auto-discovery\n",
    "    * Has .NET Framework version 4.6+ installed\n",
    "* Active Directory Service Account (recommend it is a member of Administrators group) with privileges to \n",
    "    * Replicating Directory Changes\n",
    "    * List children and Read Properties on cn=deleted objects in AD\n",
    "![AD-ServiceAccount.png](images/AD-ServiceAccount.png)\n",
    "\n",
    "Work to be done:\n",
    "* How to install Bridge (point to docs?)[OTN Link down???](http://www.oracle.com/webfolder/technetwork/tutorials/obe/cloud/idcs/idcs_idbridge_obe/idbridge.html) \n",
    "* How to install Bridge in HA mode - [OTN Link down???](http://www.oracle.com/technetwork/articles/idm/gutierrez-idcs-idbridge-3960710.html)\n",
    "* Explain how/why federation vs non-federation\n",
    "* Screen capture of process?\n"
   ]
  },
  {
   "cell_type": "code",
   "execution_count": null,
   "metadata": {
    "collapsed": true
   },
   "outputs": [],
   "source": []
  }
 ],
 "metadata": {
  "kernelspec": {
   "display_name": "Python 3",
   "language": "python",
   "name": "python3"
  },
  "language_info": {
   "codemirror_mode": {
    "name": "ipython",
    "version": 3
   },
   "file_extension": ".py",
   "mimetype": "text/x-python",
   "name": "python",
   "nbconvert_exporter": "python",
   "pygments_lexer": "ipython3",
   "version": "3.6.3"
  }
 },
 "nbformat": 4,
 "nbformat_minor": 2
}
