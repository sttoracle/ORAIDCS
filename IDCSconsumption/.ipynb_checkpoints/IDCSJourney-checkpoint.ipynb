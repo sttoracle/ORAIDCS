{
 "cells": [
  {
   "attachments": {},
   "cell_type": "markdown",
   "metadata": {},
   "source": [
    "# Oracle-Identity-Cloud-Service\n",
    "There are many services on the Oracle Cloud yet they all have one item in common...A requirement to login!  Rather than forcing users to memorize a different name and password for each service, Oracle provides the Identity Cloud Service.  IDCS enables one to centrally manage users so they only need to know one user name but can have multiple authentication methods depending on the risk / security requirements of the services you are depending on. IDCS is not just for Oracle Cloud, it may also be used for other cloud services and even on-premises applications.\n",
    "\n",
    "![IDCSVision.png](images/IDCSVision.png)\n",
    "\n",
    "* Getting started\n",
    "\t* Determine IDCS Account type    \n",
    "![IDCSAccountType.png](images/IDCSAccountType.png)\n",
    "\t\t* Standard Consumer \n",
    "\t\t* Enterprise\n",
    "\t\t\t* Foundation\n",
    "\t\t\t* Basic\n",
    "\t\t\t\t* Identity Synchronization - Active Directory to IDCS ( Y / N )\n",
    "                \n",
    "\t\t\t\t* Self-Service Password Reset ( Y / N )\n",
    "\t\t\t* Standard\n",
    "\t\t\t\t* User Self-Registration ( Y / N )\n",
    "\t\t\t\t* Self-Service Access Requests ( Y / N )\n",
    "\t\t\t\t* Login to IDCS via:\n",
    "\t\t\t\t\t* Multi-Factor Authentication ( Y / N )\n",
    "\t\t\t\t\t* Social Authentication ( Y / N )\n",
    "\t\t\t\t* SSO for Third-Party Cloud Apps ( Y / N )\n",
    "\t\t\t\t* User Provisioning and Synchronization for Third-Party Cloud Apps ( Y / N )\n",
    "\t\t\t\t* SSO for on-Premises Apps ( Y / N )\n",
    "\t\t* Administrative Information\n",
    "\t\t\t* Administrator contact email (notifications to users)\n",
    "\t\t\t* Administrative Time Zone (used for reports)\n",
    "\t\t\t\t\n",
    "\t* How will Users Authenticate?\n",
    "![WhereIsPassword.png](images/WhereIsPassword.png)\n",
    "\t\t* IDCS Local Password ( Y / N )\n",
    "\t\t\t* Will you allow users to change their forgotten password recovery eMail? ( Y / N )\n",
    "\t\t\t* Which Password Policy?\n",
    "![PasswordPolicies.png](images/PasswordPolicies.png)\n",
    "\t\t\t\t* Simple = 6-40 Characters, Must contain:1 alpha 1 numeric,  lock account after 20 incorrect, never expire\n",
    "\t\t\t\t* Standard = 8-40 Characters, Must contain: 1 upper, 1 lower, 1 numeric, lock account after 5 incorrect, 120 Expire, Can not contain (first / last / user name nor a whitespace character) Can not be changed to existing password\n",
    "\t\t\t\t* Custom (Please define)\n",
    "\t\t\t\t\t* User Definable Min/Max, Expire, Lock threshold, Prev Password, Must Contain (Alpha, Numeric, Special, Lower, Upper, unique, repeated, Starts with Alpha) Can not contain choices (first  / last / user name, Characters not allowed, Whitepace, Restricted Words)\n",
    "\t\t* Federate with SAML 2.0\n",
    "\t\t\t* Oracle Access Manager / Oracle Identity Federation\n",
    "\t\t\t* Microsoft Active Directory / Azure AD Premium\n",
    "\t\t\t* Ping / Okta / Other SAML Identity Provider\n",
    "\t\t* Social Login\n",
    "\t\t\t* Facebook, Google, LinkedIn, Microsoft, OpenID Connect, Twitter\n",
    "\t\t* Multi-Factor Authentication\n",
    "\t\t\t* Security Questions\n",
    "\t\t\t* Mobile Application OTP\n",
    "\t\t\t\t* Notifications\n",
    "\t\t\t* Text Message (SMS)\n",
    "\t\t\t* Bypass Code\n",
    "\t\t\t* Trusted Computer\n",
    "\t* How will users/groups be created?\n",
    "\t\t* Manually\n",
    "\t\t* CSV import\n",
    "\t\t* [Active Directory Bridge (Identity Synchronization)](AD%20Bridge.ipynb)\n",
    "\t\t* Identity Manager IDCS connector (out of scope???)\n",
    "\t\t* REST/SCIM APIs\n",
    "\t\t* Self Registration\n",
    "|"
   ]
  },
  {
   "cell_type": "code",
   "execution_count": null,
   "metadata": {
    "collapsed": true
   },
   "outputs": [],
   "source": []
  }
 ],
 "metadata": {
  "kernelspec": {
   "display_name": "Python 3",
   "language": "python",
   "name": "python3"
  },
  "language_info": {
   "codemirror_mode": {
    "name": "ipython",
    "version": 3
   },
   "file_extension": ".py",
   "mimetype": "text/x-python",
   "name": "python",
   "nbconvert_exporter": "python",
   "pygments_lexer": "ipython3",
   "version": "3.6.3"
  }
 },
 "nbformat": 4,
 "nbformat_minor": 2
}
