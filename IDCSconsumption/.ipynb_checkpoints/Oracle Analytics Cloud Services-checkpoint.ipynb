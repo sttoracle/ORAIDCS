{
 "cells": [
  {
   "cell_type": "markdown",
   "metadata": {},
   "source": [
    "# Oracle Analytics Cloud Services\n",
    "[PPT](https://community.oracle.com/docs/DOC-1020185) Summarized below [Video.mp4](https://community.oracle.com/docs/DOC-1019976)\n",
    "* IDCS integration is available in OAC 17.4.1 onwards, \n",
    "    * but only when OAC is purchased with Universal Credits!!!\n",
    "    * SIM Based OAC can not use IDCS/LBaaS/CloudGate (SEAL TEAM SR PROCESS???)\n",
    "        * Customers on previous versions of OAC can upgrade to 17.3.5\n",
    "        * This does not mean that after upgrade stack will have IDCS + LBaaS + CG integration.\n",
    "        * Customers with cloud accounts based in IDCS have to create a fresh pod to get IDCS + LBaaS + CG integration.\n",
    "        * Customers can migrate metadata from old pod to new pod using instructions to be externally documented ???\n",
    "\n",
    "* Integrated with PSM, no manual steps required \n",
    "* IDCS is automatically configured to be the identity provider for OAC and is enabled by default \n",
    "    * Needs to be explicitly disabled during service creation\n",
    "    * SIM Based OAC will fail if the IDCS checkbox is selected\n",
    "![OACServiceCreation](images/OACServiceCreation.png)\n",
    "* CloudGate is automatically configured for SSO to protect UI and api end points.\n",
    "* LBaaS is the web tier/http server for OAC.\n",
    "\n",
    "\n",
    "## IDCS Application Instance\n",
    "* A new IDCS Application is created for every OAC Service Instance\n",
    "![OACServiceInstanceApp](images/OACServiceInstanceApp.png)\n",
    "## Application Roles\n",
    "### Each IDCS application contains a number of IDCS application roles. \n",
    "![OACServiceInstanceAppRoles](images/OACServiceInstanceApp.png)\n",
    "* PodManager is made a member of weblogic Admin group. \n",
    "    * Only member of this IDCS app role can access /console and /em\n",
    "* ServiceAdministrator is made a member of BIServiceAdministrator \n",
    "    * The user who creates the OAC instance is made a member of this IDCS approle out of the box. \n",
    "    * This ensures that this user can administer OAC instance out of the box.\n",
    "* ServiceUser is made a member of BIContentAuthor and DVContentAuthor\n",
    "* ServiceViewer is made a member of BIConsumer and DVConsumer\n",
    "* ServiceDeveloper is unused by BI\n",
    "* ServiceDeployer is unused by BI\n",
    "\n",
    "### IDCS Administrator can add users to various IDCS Application roles\n",
    "![OACAppRoleAssign](images/OACAppRoleAssign.png) \n",
    "\n",
    "## [Documentation](https://docs.oracle.com/en/cloud/paas/analytics-cloud/essug/user-and-role-management.html)\n",
    "\n",
    "Your access to cloud service instances is restricted by cloud service security, as controlled by Oracle Identity Cloud Service (IDCS) or WebLogic LDAP. If you’re an authorized user, you’re granted access according to your assigned role.\n",
    "\n",
    "The identity management option is defined in the Oracle Analytics Cloud service management interface. If IDCS is enabled, users are created in the IDCS administration interface. Users with a Service Administrator role in IDCS can directly log into Essbase, and are automatically provisioned with an Essbase Service Administrator role. IDCS users with a Service User role require further user provisioning on the cloud service, by a Service Administrator.\n",
    "\n",
    "Users must have an account in the identity domain associated with the cloud service. Users are created and assigned to predefined roles on the Security page in Oracle Analytics Cloud - Essbase.\n",
    "\n",
    "According to your assigned role, you can view and work with applications, cubes, and databases. Your role links you to the business activities that you’re permitted to perform within a cloud service instance, and the application data that you can access.\n"
   ]
  },
  {
   "cell_type": "code",
   "execution_count": null,
   "metadata": {
    "collapsed": true
   },
   "outputs": [],
   "source": []
  }
 ],
 "metadata": {
  "kernelspec": {
   "display_name": "Python 3",
   "language": "python",
   "name": "python3"
  },
  "language_info": {
   "codemirror_mode": {
    "name": "ipython",
    "version": 3
   },
   "file_extension": ".py",
   "mimetype": "text/x-python",
   "name": "python",
   "nbconvert_exporter": "python",
   "pygments_lexer": "ipython3",
   "version": "3.6.3"
  }
 },
 "nbformat": 4,
 "nbformat_minor": 2
}
