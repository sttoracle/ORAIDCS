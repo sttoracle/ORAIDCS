{
 "cells": [
  {
   "cell_type": "markdown",
   "metadata": {},
   "source": [
    "# Self Registration\n",
    "[Documentation](https://docs.oracle.com/en/cloud/paas/identity-cloud/uaids/creating-self-registration-profiles.html) \n",
    "* Create Groups that will be automatically assigned\n",
    "* Determine User Consent Statement\n",
    "* Determine allowed eMail Domains\n",
    "* Determine Branding\n",
    "* https://idcs-####.identity.oraclecloud.com/ui/v1/signup?profileid=PROFILEID\n",
    "\n",
    "Work to be done:\n",
    "* Screenshots of process\n",
    "\n"
   ]
  },
  {
   "cell_type": "code",
   "execution_count": null,
   "metadata": {
    "collapsed": true
   },
   "outputs": [],
   "source": []
  }
 ],
 "metadata": {
  "kernelspec": {
   "display_name": "Python 3",
   "language": "python",
   "name": "python3"
  },
  "language_info": {
   "codemirror_mode": {
    "name": "ipython",
    "version": 3
   },
   "file_extension": ".py",
   "mimetype": "text/x-python",
   "name": "python",
   "nbconvert_exporter": "python",
   "pygments_lexer": "ipython3",
   "version": "3.6.3"
  }
 },
 "nbformat": 4,
 "nbformat_minor": 2
}
