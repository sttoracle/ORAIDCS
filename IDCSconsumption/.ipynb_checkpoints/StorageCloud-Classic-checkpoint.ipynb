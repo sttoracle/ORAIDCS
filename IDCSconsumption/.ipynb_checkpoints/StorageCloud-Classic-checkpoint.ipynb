{
 "cells": [
  {
   "cell_type": "markdown",
   "metadata": {},
   "source": [
    "# Storage Cloud - Classic\n",
    "\n",
    "Strorage Cloud - Classic manages permissions (Read and Write) to containers via IDCS Application Roles\n",
    "\n",
    "![StorageClassicPermissions](images/StorageClassicPermissions.png)\n",
    "\n",
    "It is in the format of IDCSTenent.App.AppRole   \n",
    "* idcs-3b9e66cfccbd4954aae049e88c604f8d.StorageApp-b79662b9baf14b6a98fb3a397731682D.Storage_ReadOnlyGroup\n",
    "IDCS Users and Groups can be added to the AppRole from within IDCS\n",
    "![StorageClassicAppRoleAssign](images/StorageClassicAppRoleAssign.png)\n",
    "\n",
    "While there is an Import and Export interface above, this is used for adding IDCS Users and Groups to existing Application Roles, not creating new Application Roles. One can create a new Application role using a REST Call as described below. \n",
    "## Create Application Role with REST API\n",
    "Create a FILE_NAME for the app role with a display name, and the value is the Application ID\n",
    "![StorageClassicAppID](images/StorageClassicAppID.png)"
   ]
  },
  {
   "cell_type": "raw",
   "metadata": {},
   "source": [
    "{\n",
    "  \"displayName\": \"DOC_Admin_Role\",\n",
    "  \"adminRole\": true,\n",
    "  \"description\": \"Admin Role of DOC\",\n",
    "  \"public\": false,\n",
    "  \"app\": {\n",
    "    \"value\": \"656c18fc6e7e418d99b57c2a6c2f7961\"\n",
    "  },\n",
    "  \"schemas\": [\n",
    "    \"urn:ietf:params:scim:schemas:oracle:idcs:AppRole\"\n",
    "  ]\n",
    "}"
   ]
  },
  {
   "cell_type": "markdown",
   "metadata": {},
   "source": [
    "\n",
    "Replace IDCS_URL, ACCESS_TOKEN and FILE_NAME based on your values\n",
    "\n",
    "curl -k -v -X POST -H \"Content-Type: application/scim+json\" -H \"Authorization: Bearer **ACCESS_TOKEN**\" \"**IDCS_URL**/admin/v1/AppRoles\" -d '**FILE_NAME**' -o user_output.json\n",
    "\n",
    "\n",
    "Create a FILE_NAME for the app role with a display name, and the value is the Application ID\n",
    "![StorageClassicAppID](images/StorageClassicAppID.png)\n",
    "\n",
    "{\n",
    "  \"displayName\": \"DOC_Admin_Role\",\n",
    "  \"adminRole\": true,\n",
    "  \"description\": \"Admin Role of DOC\",\n",
    "  \"public\": false,\n",
    "  \"app\": {\n",
    "    \"value\": \"656c18fc6e7e418d99b57c2a6c2f7961\"\n",
    "  },\n",
    "  \"schemas\": [\n",
    "    \"urn:ietf:params:scim:schemas:oracle:idcs:AppRole\"\n",
    "  ]\n",
    "}\n",
    "## Create Application Role with POSTMAN\n",
    "\n",
    "This can also be done via POSTMAN once a client app has been created.  \n",
    "Follow Register a Client App from [Create User-Group](User-Group%20creation%20via%20REST%20APIs.ipynb) to get the client credentials (ID and Secret)\n",
    "\n",
    "Using POSTMAN follow instructions at:  \n",
    "* https://github.com/oracle/idm-samples/tree/master/idcs-rest-clients \n",
    "\n",
    "Essentially getting the IDCS APIs, an Example Environment and Globals by importing from link\n",
    "\n",
    "* https://github.com/oracle/idm-samples/raw/master/idcs-rest-clients/REST_API_for_Oracle_Identity_Cloud_Service.postman_collection.json\n",
    "* https://github.com/oracle/idm-samples/raw/master/idcs-rest-clients/example_environment.json\n",
    "* https://github.com/oracle/idm-samples/raw/master/idcs-rest-clients/oracle_identity_cloud_service_postman_globals.json \n",
    "\n",
    "On the far right Management environments Duplicate the Example Environment and name it your own\n",
    "\n",
    "Edit the environment you created to have  \n",
    "HOST: IDCSTenancy\n",
    "CLIENT_ID: (From above)\n",
    "CLIENT_SECRET: (From above)\n",
    "Select the environment you duplicated\n",
    "\n",
    "\n",
    "Then under the REST API for Oracle Identity Cloud Service collection\n",
    "Under OAuth/Tokens there is a POST Obtain access_token (client credentials) \n",
    "\n",
    "Click Send To Get the Access Token and copy between the “ “\n",
    "\n",
    "Manage the environment and update access_token \n",
    "\n",
    "In IDCS Applications find your Storage App to get the Application ID\n",
    "\n",
    "  \n",
    "The above Postman collection may not have a CreateAppRole so\n",
    "Create a new entry with\n",
    "POST {{HOST}}/admin/v1/AppRoles \n",
    "\n",
    "With Headers for \n",
    "* Authorization (Bearer {{access_token}})  \n",
    "* Content-Type (application/scim+json)\n",
    "\n",
    "Then create a Body for the app role with a display name, and the value is the Application ID (see top)\n"
   ]
  },
  {
   "cell_type": "raw",
   "metadata": {
    "collapsed": true
   },
   "source": [
    "{ \n",
    "    \"displayName\": \"DOC_Admin_Role\", \n",
    "    \"adminRole\": true, \n",
    "    \"description\": \"Admin Role of DOC\", \n",
    "    \"public\": false, \n",
    "    \"app\": { \n",
    "        \"value\": \"656c18fc6e7e418d99b57c2a6c2f7961\" \n",
    "        }, \n",
    "    \"schemas\": [ \n",
    "        \"urn:ietf:params:scim:schemas:oracle:idcs:AppRole\" \n",
    "        ] \n",
    "}"
   ]
  },
  {
   "cell_type": "markdown",
   "metadata": {},
   "source": [
    "* One can easily edit JSON at http://jsoneditoronline.org \n",
    "\n",
    "Now that there is a new AppRole one can go to the Storage Administration and add role (Read or Write)\n",
    "IDCSTenant.App.AppRoleName\n",
    "\n"
   ]
  },
  {
   "cell_type": "code",
   "execution_count": null,
   "metadata": {
    "collapsed": true
   },
   "outputs": [],
   "source": []
  }
 ],
 "metadata": {
  "kernelspec": {
   "display_name": "Python 3",
   "language": "python",
   "name": "python3"
  },
  "language_info": {
   "codemirror_mode": {
    "name": "ipython",
    "version": 3
   },
   "file_extension": ".py",
   "mimetype": "text/x-python",
   "name": "python",
   "nbconvert_exporter": "python",
   "pygments_lexer": "ipython3",
   "version": "3.6.3"
  }
 },
 "nbformat": 4,
 "nbformat_minor": 2
}
