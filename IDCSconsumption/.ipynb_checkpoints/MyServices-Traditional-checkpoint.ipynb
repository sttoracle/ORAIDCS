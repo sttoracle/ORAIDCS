{
 "cells": [
  {
   "cell_type": "markdown",
   "metadata": {},
   "source": [
    "# My Services Traditional\n",
    "My Services is the \"dashboard\" to Oracle Cloud Infrastructure - Traditional IaaS/PaaS services.  These services were available before IDCS and relied on a \"Shared Identity Manager (SIM)\" user, app role and custom app roles (grouping mechanism for permissions) repository.\n",
    "\n",
    "SIM User provisioning is manual or CSV import so in order to federate to SIM from IDCS, provisioning must first occur manually.  There was a Development IDCS App Template to create users in SIM from IDCS but due to the migration of SIM to IDCS for the majority of services,is not expected until Q1CY2018.  This app template may provision users to App Roles in Q2CY2018 if migration from SIM to IDCS for your PaaS/IaaS is not seamless.\n",
    "\n",
    "So while IDCS can Federate today to SIM, provisioning and entitlement management is still a manual process in SIM.\n",
    "\n",
    "## What is needed to setup IDCS SAML IDP for OMC/SIM SAML SP\n",
    "\n",
    "Two different browsers (or one incognito) - Sign into IDCS AdminConsole as Identity Administrator, other into Traditional Users screen as Identity Domain Administrator\n",
    "Create users in SIM and IDCS (various methods) where the emails match (or email in IDCS matches SIM Username is what is documented below)\n",
    "In IDCS click on Applications \n",
    "Click on Add\n",
    "Click on SAML Application \n",
    "Provide \n",
    "Name\n",
    "Description\n",
    "Application URL / RelayState = https://myservices.us2.oraclecloud.com/mycloud/TENANTNAME/faces/dashboard.jspx\n",
    "Next\n",
    "SSO Configuration\n",
    "Entity ID = https://login.us2.oraclecloud.com:443/oam/fed/cloud/TENANTNAME \n",
    "Assertion Consumer URL = https://login.us2.oraclecloud.com:443/oam/server/fed/sp/sso?tenant=TENANTNAME \n",
    "NameID Format=Email Address\n",
    "NameID Value Primary Email \n",
    "Upload Signing Certificate from SIM (Next Section so may want to wait) \n",
    "Download Identity Provider Metadata (for SIM in step)\n",
    "Advanced Settings\n",
    "Single Logout URL: https://login.us2.oraclecloud.com:443/oamfed/cloud/TENANTNAME/sp/samlv20 \n",
    "Logout Response URL: https://login.us2.oraclecloud.com:443/oamfed/cloud/TENANTNAME/sp/samlv20 \n",
    "Save \n",
    "Activate\n",
    "Assign users/groups in IDCS who can use this IDP to login to SIM\n",
    "In SIM Click on SSO Configuration \n",
    "In 2. Configure SSO click Edit \n",
    "Choose File - select Identity Provider MetaData from above \n",
    "If your user ID is email from IDCS then select User ID otherwise, select User’s Email Address = must match!\n",
    "Save\n",
    "In 3. Export Metadata to finish above IDCS Configuration\n",
    "Once IDCS is configured with a user who matches in SIM associated to the SAML App - Click Test\n",
    "Initate Federation SSO  - Start SSO\n",
    "Login with your IDCS Credentials and you should see success Close that tab\n",
    "In 5. Enable SSO\n",
    "In 6. if you want to only allow IDCS logins, you are done.  If you want users to be able to pick IDCS or local SIM password click on Enable so it says Disable (my choice)\n",
    "Now when you login to Traditional or Services that use SIM - Company Sign In will appear to use IDCS and if configured for MFA, MFA will be enforced.\n",
    "\n",
    "Work to to: \n",
    "* Steps to federate to SIM (Viewlet) or move images to above\n",
    "* List of Services that fall into this category\n",
    "* Links to each Service and what \"can be done\"\n",
    "* Show how IDCS MFA can be achieved\n"
   ]
  },
  {
   "cell_type": "code",
   "execution_count": null,
   "metadata": {
    "collapsed": true
   },
   "outputs": [],
   "source": []
  }
 ],
 "metadata": {
  "kernelspec": {
   "display_name": "Python 3",
   "language": "python",
   "name": "python3"
  },
  "language_info": {
   "codemirror_mode": {
    "name": "ipython",
    "version": 3
   },
   "file_extension": ".py",
   "mimetype": "text/x-python",
   "name": "python",
   "nbconvert_exporter": "python",
   "pygments_lexer": "ipython3",
   "version": "3.6.3"
  }
 },
 "nbformat": 4,
 "nbformat_minor": 2
}
