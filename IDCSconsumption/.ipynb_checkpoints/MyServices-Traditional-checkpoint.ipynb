{
 "cells": [
  {
   "cell_type": "markdown",
   "metadata": {},
   "source": [
    "# My Services Traditional\n",
    "My Services is the \"dashboard\" to Oracle Cloud Infrastructure - Traditional IaaS/PaaS services.  These services were available before IDCS and relied on a \"Shared Identity Manager (SIM)\" user, app role and custom app roles (grouping mechanism for permissions) repository.\n",
    "\n",
    "SIM User provisioning is manual or CSV import so in order to federate to SIM from IDCS, provisioning must occur manually.  There was a Development IDCS App Template to create users in SIM from IDCS but due to the migration of SIM to IDCS for the majority of services, was never completed.  Likewise, the app template was never going to provision users to App Roles.  \n",
    "So while IDCS can Federate, provisioning and entitlement management is still a manual process.\n",
    "\n",
    "Work to to: \n",
    "* Steps to federate to SIM (Viewlet)\n",
    "* List of Services that fall into this category\n",
    "* Links to each Service and what \"can be done\"\n",
    "* Show how IDCS MFA can be achieved\n"
   ]
  },
  {
   "cell_type": "code",
   "execution_count": null,
   "metadata": {
    "collapsed": true
   },
   "outputs": [],
   "source": []
  }
 ],
 "metadata": {
  "kernelspec": {
   "display_name": "Python 3",
   "language": "python",
   "name": "python3"
  },
  "language_info": {
   "codemirror_mode": {
    "name": "ipython",
    "version": 3
   },
   "file_extension": ".py",
   "mimetype": "text/x-python",
   "name": "python",
   "nbconvert_exporter": "python",
   "pygments_lexer": "ipython3",
   "version": "3.6.3"
  }
 },
 "nbformat": 4,
 "nbformat_minor": 2
}
