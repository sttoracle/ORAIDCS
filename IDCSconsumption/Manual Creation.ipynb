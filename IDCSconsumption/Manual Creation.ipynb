{
 "cells": [
  {
   "cell_type": "markdown",
   "metadata": {},
   "source": [
    "# Manual User / Group Creation\n",
    "## User Creation\n",
    "Creating a new user only requires knowing a first and last name along with an email (to send activation/password recovery).  Optionally one can set a different login name than the email if desired.\n",
    "![AddUser](images/AddUser.png) or ![AddUser-Diff](images/AddUser-Diff.png)\n",
    "Next will allow you to assign the users to a group or you can Finish.\n",
    "Depending on notification settings, the user will then get an email with a link to activate and set their password per the password policy (hopefully set prior!)\n",
    "## Group Creation\n",
    "Creating a new group only requires a name. If you want to make the group requestable, check the box  (this will be a IDCS Standard chargeable event)\n",
    "![AddUser](images/AddGroup.png)\n",
    "Next will allow you to assign users to the group or you can Finish."
   ]
  }
 ],
 "metadata": {
  "kernelspec": {
   "display_name": "Python 3",
   "language": "python",
   "name": "python3"
  },
  "language_info": {
   "codemirror_mode": {
    "name": "ipython",
    "version": 3
   },
   "file_extension": ".py",
   "mimetype": "text/x-python",
   "name": "python",
   "nbconvert_exporter": "python",
   "pygments_lexer": "ipython3",
   "version": "3.6.3"
  }
 },
 "nbformat": 4,
 "nbformat_minor": 2
}
