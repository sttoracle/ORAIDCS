{
 "cells": [
  {
   "cell_type": "code",
   "execution_count": 2,
   "metadata": {},
   "outputs": [
    {
     "data": {
      "text/html": [
       "<script>\n",
       "code_show=true; \n",
       "function code_toggle() {\n",
       " if (code_show){\n",
       " $('div.input').hide();\n",
       " } else {\n",
       " $('div.input').show();\n",
       " }\n",
       " code_show = !code_show\n",
       "} \n",
       "$( document ).ready(code_toggle);\n",
       "</script>\n",
       "<form action=\"javascript:code_toggle()\"><input type=\"submit\" value=\"Click here to toggle on/off the raw code.\"></form>"
      ],
      "text/plain": [
       "<IPython.core.display.HTML object>"
      ]
     },
     "execution_count": 2,
     "metadata": {},
     "output_type": "execute_result"
    }
   ],
   "source": [
    "from IPython.display import HTML\n",
    "\n",
    "HTML('''<script>\n",
    "code_show=true; \n",
    "function code_toggle() {\n",
    " if (code_show){\n",
    " $('div.input').hide();\n",
    " } else {\n",
    " $('div.input').show();\n",
    " }\n",
    " code_show = !code_show\n",
    "} \n",
    "$( document ).ready(code_toggle);\n",
    "</script>\n",
    "<form action=\"javascript:code_toggle()\"><input type=\"submit\" value=\"Click here to toggle on/off the raw code.\"></form>''')"
   ]
  },
  {
   "cell_type": "markdown",
   "metadata": {},
   "source": [
    "# User On-boarding - API\n",
    "\n",
    "The Oracle Identity Cloud Service REST APIs support SCIM 2.0 compliant endpoints with standard SCIM 2.0 core schemas and Oracle schema extensions to programmatically manage users, groups, applications, and identity functions, such as password management and administrative tasks. \n",
    "\n",
    "To make REST API calls to your Oracle Identity Cloud Service environment, you need an OAuth2 access token to use for authorization. The access token provides a session (with scope and expiration), that your client application can use to perform tasks in Oracle Identity Cloud Service."
   ]
  },
  {
   "cell_type": "markdown",
   "metadata": {},
   "source": [
    "This demonstration runs on Jupyter notebook. This page is the static snapshot of the notebook file.\n",
    "\n",
    "Click [here](UO-API.ipynb) to actually run the API's described here"
   ]
  },
  {
   "cell_type": "code",
   "execution_count": 1,
   "metadata": {
    "collapsed": true
   },
   "outputs": [],
   "source": [
    "import requests, json\n",
    "from ipywidgets import widgets, Layout\n",
    "from IPython.display import display\n",
    "from IPython.display import HTML"
   ]
  },
  {
   "cell_type": "markdown",
   "metadata": {},
   "source": [
    "## 1 - Discovery\n",
    "\n",
    "First let's gather information about your IDCS Tenant\n",
    "\n",
    "Run the following cell after providing the following information\n",
    "- Tenant\n",
    "- Domain\n",
    "- Port\n",
    "\n",
    "Then you will discover the IDCS End Points automatically.\n",
    "\n",
    "Explore by expanding the Discovered **`IDCS Configuration`**"
   ]
  },
  {
   "cell_type": "code",
   "execution_count": null,
   "metadata": {
    "collapsed": true,
    "scrolled": true
   },
   "outputs": [],
   "source": [
    "tenant = \"\"\n",
    "domain = \"identity.oraclecloud.com\"\n",
    "port = \"443\"\n",
    "\n",
    "baseurl = 'https://' + tenant + '.' + domain + ':' + port\n",
    "configurl =  baseurl + '/.well-known/idcs-configuration'\n",
    "response = requests.get(configurl).text\n",
    "config = json.loads(response)\n",
    "\n",
    "configD = widgets.Accordion(children=[widgets.Textarea(value=json.dumps(config, indent=4, sort_keys=True), \n",
    "                                                             layout=Layout(width='100%', height='800px'))])\n",
    "configD.set_title(0, 'IDCS Configuration')\n",
    "configD.selected_index = None\n",
    "display(configD)"
   ]
  },
  {
   "cell_type": "markdown",
   "metadata": {},
   "source": [
    "The Discovery End-Point was public and so didn't require any Access Token or other form of authentication\n",
    "\n",
    "___"
   ]
  },
  {
   "cell_type": "markdown",
   "metadata": {},
   "source": [
    "## 2 - Access Token (2-legged OAuth)\n",
    "\n",
    "Next We will get an OAuth Access Token  using 2-legged OAuth2 Authorization flow.\n",
    "\n",
    "Check out the following diagram of 2-legged flow -\n",
    "\n",
    "![OAuth2 2-Legged Diagram](resources/oauth2legged.jpg)"
   ]
  },
  {
   "cell_type": "markdown",
   "metadata": {},
   "source": [
    "Some minimal setup in IDCS is needed for the flow. \n",
    "\n",
    "- Login to your [IDCS Admin Console]() using Administrator credentials\n",
    "- Create an **App** that grants access to IDCS protected REST API's. \n",
    "- Record the `Client ID` and `Client Secret` from the App Configuration\n",
    "\n",
    "Follow the video below to create your App in IDCS."
   ]
  },
  {
   "cell_type": "code",
   "execution_count": null,
   "metadata": {
    "collapsed": true,
    "scrolled": true
   },
   "outputs": [],
   "source": [
    "HTML('<iframe width=\"560\" height=\"315\" src=\"https://www.youtube.com/embed/A2LiNJRRINk?rel=0&amp;controls=1&amp;showinfo=0\" frameborder=\"0\" allowfullscreen></iframe>')"
   ]
  },
  {
   "cell_type": "code",
   "execution_count": 3,
   "metadata": {},
   "outputs": [
    {
     "data": {
      "text/html": [
       "<iframe width=\"560\" height=\"315\" src=\"https://docs.oracle.com/en/cloud/paas/identity-cloud/17.4.2/rest-api/OATOAuthClientWebApp.html#GUID-51E5C29A-6B7E-487A-8832-5D709410C16A__RegisterAnOAuthClientWebApplication-29DDFF36\" frameborder=\"0\" allowfullscreen></iframe>"
      ],
      "text/plain": [
       "<IPython.core.display.HTML object>"
      ]
     },
     "execution_count": 3,
     "metadata": {},
     "output_type": "execute_result"
    }
   ],
   "source": [
    "HTML('<iframe width=\"560\" height=\"315\" src=\"https://docs.oracle.com/en/cloud/paas/identity-cloud/17.4.2/rest-api/OATOAuthClientWebApp.html#GUID-51E5C29A-6B7E-487A-8832-5D709410C16A__RegisterAnOAuthClientWebApplication-29DDFF36\" frameborder=\"0\" allowfullscreen></iframe>')"
   ]
  },
  {
   "cell_type": "markdown",
   "metadata": {
    "collapsed": true
   },
   "source": [
    "Now it's time to store the recorded `Client ID` and `Client Secret`. They will be used duing API call."
   ]
  },
  {
   "cell_type": "code",
   "execution_count": null,
   "metadata": {
    "collapsed": true
   },
   "outputs": [],
   "source": [
    "from getpass import getpass \n",
    "#Lets get the App's Client ID and Client secret. They will be needed for proceted API calls\n",
    "clientId = \"\"\n",
    "clientSecret = \"\""
   ]
  },
  {
   "cell_type": "markdown",
   "metadata": {},
   "source": [
    "Having collected all the necessary data, you can now generate **Access Token** from IDCS.\n",
    "\n",
    "The steps are -\n",
    "- Find the Token End-Point URL from IDCS Discovery Configuation\n",
    "- Specify the grant type as `password`\n",
    "- Pass the `Client ID` and `Client Secret` in base-64 encoded format as **HTTP Basic Authentication** header.  \n",
    "    > The format of the data is -\n",
    "    **<font color=\"blue\">b64encode(Client ID:Client Secret)</font>**\n",
    "- Make an **HTTP POST** call to the Token End-Point URL\n",
    "    - Include the `Authentication` Header\n",
    "    - POST data should contain - `Grant Type`, `User ID`, `User Password` and `Scope`\n",
    "- The POST response will contain the issued **Access Token**\n",
    "  \n",
    "View the **AT** from displayed Output   "
   ]
  },
  {
   "cell_type": "code",
   "execution_count": null,
   "metadata": {
    "collapsed": true
   },
   "outputs": [],
   "source": [
    "import base64, urllib.parse\n",
    "\n",
    "#Find the OAuth2 Token Endpoint from Discovery Config\n",
    "tokenurl = config[\"openid-configuration\"][\"token_endpoint\"]\n",
    "\n",
    "grant_type = \"client_credentials\"\n",
    "scope = \"urn:opc:idm:__myscopes__\"\n",
    "\n",
    "#Token Endpoint needs the App Creds in base64 encoded Header\n",
    "basicauthHeader = base64.b64encode(bytes(clientId + \":\" + clientSecret, 'utf-8')) \n",
    "#reqdata = {'grant_type': grant_type, 'scope' : scope}\n",
    "reqheaders = {'Authorization': 'Basic ' + basicauthHeader.decode(\"utf-8\"), 'content-type': 'application/x-www-form-urlencoded'}\n",
    "\n",
    "response = requests.post(tokenurl, data = reqdata, headers = reqheaders)\n",
    "accesstoken = response.json()[\"access_token\"]\n",
    "accesstokenD = widgets.Accordion(children=[widgets.Textarea(value=accesstoken, layout=Layout(width='100%', height='400px'))])\n",
    "accesstokenD.set_title(0, 'Access Token')\n",
    "accesstokenD.selected_index = None\n",
    "display(accesstokenD)"
   ]
  },
  {
   "cell_type": "markdown",
   "metadata": {},
   "source": [
    "___"
   ]
  },
  {
   "cell_type": "code",
   "execution_count": null,
   "metadata": {
    "collapsed": true
   },
   "outputs": [],
   "source": []
  },
  {
   "cell_type": "markdown",
   "metadata": {},
   "source": [
    "## 3 - User Management\n",
    "\n",
    "Armed with Access Token having **Scopes** that grant access to **User Administrator** level Admin API's, let's now get all the users currently in **IDCS**.\n",
    "\n",
    "Run the following cell to display IDCS Users with their **Email Address** and internal **ID** values\n",
    "\n",
    "> Notice that the User REST API call contains an **Authorization** Header where the **AT** is passed as a **Bearer Token**"
   ]
  },
  {
   "cell_type": "code",
   "execution_count": null,
   "metadata": {
    "collapsed": true
   },
   "outputs": [],
   "source": [
    "userurl = baseurl + \"/admin/v1/Users\"\n",
    "\n",
    "uheaders = {'Authorization': 'Bearer ' + accesstoken, 'content-type': 'application/json'}\n",
    "userlist = requests.get(userurl, headers = uheaders).json()[\"Resources\"]\n",
    "userDF = pd.DataFrame(userlist)\n",
    "userDispList = [userDF[\"userName\"], \n",
    "                userDF.emails.apply(lambda x: x[0][\"value\"] if x[0][\"primary\"] == True else x[1][\"value\"]), \n",
    "                userDF[\"id\"]]\n",
    "userDispDF = pd.concat(userDispList, axis=1)\n",
    "\n",
    "HTML(userDispDF.to_html())\n"
   ]
  },
  {
   "cell_type": "markdown",
   "metadata": {},
   "source": [
    "#### Additional Resources:\n",
    "\n",
    "[IDCS REST API](https://docs.oracle.com/en/cloud/paas/identity-cloud/idcsa/index.html)\n",
    "\n",
    "[What is SCIM](http://www.ateam-oracle.com/what-is-scim/)"
   ]
  },
  {
   "cell_type": "code",
   "execution_count": null,
   "metadata": {
    "collapsed": true
   },
   "outputs": [],
   "source": []
  }
 ],
 "metadata": {
  "kernelspec": {
   "display_name": "Python 2",
   "language": "python",
   "name": "python2"
  },
  "language_info": {
   "codemirror_mode": {
    "name": "ipython",
    "version": 2
   },
   "file_extension": ".py",
   "mimetype": "text/x-python",
   "name": "python",
   "nbconvert_exporter": "python",
   "pygments_lexer": "ipython2",
   "version": "2.7.14"
  }
 },
 "nbformat": 4,
 "nbformat_minor": 2
}
